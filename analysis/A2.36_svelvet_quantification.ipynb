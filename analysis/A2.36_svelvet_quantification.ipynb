{
 "cells": [
  {
   "cell_type": "code",
   "execution_count": 1,
   "metadata": {},
   "outputs": [
    {
     "name": "stderr",
     "output_type": "stream",
     "text": [
      "Global seed set to 0\n",
      "/camp/home/maizelr/.local/lib/python3.10/site-packages/pytorch_lightning/utilities/warnings.py:53: LightningDeprecationWarning: pytorch_lightning.utilities.warnings.rank_zero_deprecation has been deprecated in v1.6 and will be removed in v1.8. Use the equivalent function from the pytorch_lightning.utilities.rank_zero module instead.\n",
      "  new_rank_zero_deprecation(\n",
      "/camp/home/maizelr/.local/lib/python3.10/site-packages/pytorch_lightning/utilities/warnings.py:58: LightningDeprecationWarning: The `pytorch_lightning.loggers.base.rank_zero_experiment` is deprecated in v1.7 and will be removed in v1.9. Please use `pytorch_lightning.loggers.logger.rank_zero_experiment` instead.\n",
      "  return new_rank_zero_deprecation(*args, **kwargs)\n"
     ]
    }
   ],
   "source": [
    "import velvet as vt\n",
    "\n",
    "# general packages\n",
    "import numpy as np\n",
    "import pandas as pd\n",
    "import torch\n",
    "from scipy.sparse import issparse\n",
    "\n",
    "# velocity packages\n",
    "import scanpy as sc\n",
    "import scvelo as scv\n",
    "import anndata as ann\n",
    "\n",
    "# plotting packages\n",
    "from sklearn.decomposition import PCA\n",
    "import matplotlib.pyplot as plt\n",
    "import seaborn as sns\n",
    "from tqdm import tqdm, trange\n",
    "from IPython.display import clear_output\n",
    "\n",
    "# color palette object\n",
    "from colors import colorpalette as colpal"
   ]
  },
  {
   "cell_type": "code",
   "execution_count": 2,
   "metadata": {},
   "outputs": [],
   "source": [
    "# we implement unitvelo's evaluation \n",
    "# originally from https://github.com/StatBiomed/UniTVelo/blob/main/unitvelo/eval_utils.py\n",
    "# paper: https://www.nature.com/articles/s41467-022-34188-7\n",
    "# authors: Mingze Gao, Chen Qiao & Yuanhua Huang \n",
    "\n",
    "from eval_functions import unitvelo_cross_boundary_correctness as cross_boundary_correctness\n",
    "from  eval_functions import unitvelo_inner_cluster_coh as inner_cluster_coh"
   ]
  },
  {
   "cell_type": "code",
   "execution_count": 3,
   "metadata": {},
   "outputs": [],
   "source": [
    "from sklearn.metrics.pairwise import cosine_similarity"
   ]
  },
  {
   "cell_type": "code",
   "execution_count": 4,
   "metadata": {},
   "outputs": [],
   "source": [
    "def velvetsplicing_pipeline(adata0, name):\n",
    "    adata = adata0.copy()\n",
    "    \n",
    "    vt.pp.neighborhood(adata, n_neighbors=100)\n",
    "    \n",
    "    adata.layers['spliced'] = (adata.layers['spliced'].A if \n",
    "                               issparse(adata.layers['spliced']) else \n",
    "                               adata.layers['spliced'])\n",
    "    adata.layers['unspliced'] = (adata.layers['unspliced'].A if \n",
    "                               issparse(adata.layers['unspliced']) else \n",
    "                               adata.layers['unspliced'])\n",
    "    adata.layers['total'] = adata.layers['spliced'] + adata.layers['unspliced']\n",
    "    \n",
    "    vt.ut.set_seed(0)\n",
    "        \n",
    "    vt.md.Svelvet.setup_anndata(adata, x_layer='total', u_layer='unspliced', knn_layer='knn_index')\n",
    "\n",
    "    model = vt.md.Svelvet(\n",
    "        adata,\n",
    "        n_latent = 50,\n",
    "        linear_decoder = True,\n",
    "        neighborhood_space=\"latent_space\",\n",
    "        gamma_mode = \"learned\",\n",
    "    )\n",
    "\n",
    "    model.setup_model()\n",
    "    \n",
    "    model.train(\n",
    "        batch_size = adata.shape[0],\n",
    "        max_epochs = 1000, \n",
    "        freeze_vae_after_epochs = 200,\n",
    "        constrain_vf_after_epochs = 200,\n",
    "        lr=0.001,\n",
    "    )\n",
    "    \n",
    "    V = model.predict_velocity()\n",
    "    V = V.A if issparse(V) else V\n",
    "    V = np.nan_to_num(V, nan=0, neginf=0, posinf=0)\n",
    "    return V\n",
    "\n",
    "def velvetsplicing_pipeline_with_smoothing(adata0, name):\n",
    "    adata = adata0.copy()\n",
    "    \n",
    "    adata.layers['spliced'] = (adata.layers['spliced'].A if \n",
    "                               issparse(adata.layers['spliced']) else \n",
    "                               adata.layers['spliced'])\n",
    "    adata.layers['unspliced'] = (adata.layers['unspliced'].A if \n",
    "                               issparse(adata.layers['unspliced']) else \n",
    "                               adata.layers['unspliced'])\n",
    "    adata.layers['total'] = adata.layers['spliced'] + adata.layers['unspliced']\n",
    "\n",
    "    \n",
    "    smoothing_cnx = vt.pp.connectivities(adata, n_neighbors=30)\n",
    "\n",
    "    adata.layers['total_smooth'] = vt.pp.moments(\n",
    "        X=adata.layers['total'],\n",
    "        cnx=smoothing_cnx\n",
    "    )\n",
    "\n",
    "    adata.layers['unspliced_smooth'] = vt.pp.moments(\n",
    "        X=adata.layers['unspliced'],\n",
    "        cnx=smoothing_cnx\n",
    "    )\n",
    "    \n",
    "    vt.pp.neighborhood(adata, n_neighbors=100)\n",
    "\n",
    "    vt.ut.set_seed(0)\n",
    "\n",
    "    vt.md.Svelvet.setup_anndata(adata, x_layer='total_smooth',\n",
    "                                       u_layer='unspliced_smooth', knn_layer='knn_index')\n",
    "\n",
    "    model = vt.md.Svelvet(\n",
    "        adata,\n",
    "        n_latent = 50,\n",
    "        linear_decoder = True,\n",
    "        neighborhood_space=\"latent_space\",\n",
    "        gamma_mode = \"learned\",\n",
    "    )\n",
    "\n",
    "    model.setup_model()\n",
    "    \n",
    "    model.train(\n",
    "        batch_size = adata.shape[0],\n",
    "        max_epochs = 1000, \n",
    "        freeze_vae_after_epochs = 200,\n",
    "        constrain_vf_after_epochs = 200,\n",
    "        lr=0.001,\n",
    "    )\n",
    "    \n",
    "    V = model.predict_velocity()\n",
    "    V = V.A if issparse(V) else V\n",
    "    V = np.nan_to_num(V, nan=0, neginf=0, posinf=0)\n",
    "    return V"
   ]
  },
  {
   "cell_type": "code",
   "execution_count": 5,
   "metadata": {},
   "outputs": [],
   "source": [
    "## functions used in preparing data for benchmarking\n",
    "\n",
    "def project_to_pca(adata):\n",
    "    X = adata.layers['total']\n",
    "    V = adata.layers['velocity']\n",
    "\n",
    "    X = np.array(X.A if issparse(X) else X)\n",
    "    V = np.array(V.A if issparse(V) else V)\n",
    "    V = np.nan_to_num(V, nan=0, neginf=0, posinf=0)\n",
    "    Y = np.clip(X + V, 0, 1000)\n",
    "\n",
    "\n",
    "    Xlog = np.log1p(X)\n",
    "    pca = PCA()\n",
    "    Xpca = pca.fit_transform(Xlog)\n",
    "\n",
    "    Ylog = np.log1p(Y)\n",
    "    Ypca = pca.transform(Ylog)\n",
    "    V = Ypca - Xpca\n",
    "    return V\n",
    "\n",
    "def prepare_for_test(\n",
    "    adata,\n",
    "    name,\n",
    "    func,\n",
    "    ndims=50,\n",
    "    pt=True,\n",
    "):\n",
    "    x_pca = adata.obsm['X_pca']\n",
    "    velocity = func(adata, name)\n",
    "\n",
    "    test = ann.AnnData(X=adata.X, obs=adata.obs, var=adata.var,\n",
    "                       layers={'total':adata.layers['total'],\n",
    "                               'velocity':velocity})\n",
    "\n",
    "    test.obsm['X_pca'] = x_pca[:,:ndims]\n",
    "    test.obsm['cellrank_baseline'] = adata.obsm['velocity_cr_pca'][:,:ndims]\n",
    "    if pt:\n",
    "        test.obsm['pseudotime_baseline'] = adata.obsm['velocity_pst'][:,:ndims]\n",
    "    else:\n",
    "        ## this is a lazy implementation, will create meaningless comparison\n",
    "        ## but it will never get saved\n",
    "        ## this is just for the maxi dataset that we don't have a good\n",
    "        ## pseudotime trajectory skeleton for.\n",
    "        test.obsm['pseudotime_baseline'] = np.zeros_like(test.obsm['cellrank_baseline'])\n",
    "        \n",
    "    test.obsm['velocity_pca'] = project_to_pca(test)[:,:ndims]\n",
    "    \n",
    "    scv.pp.neighbors(test)\n",
    "    return test\n"
   ]
  },
  {
   "cell_type": "code",
   "execution_count": 6,
   "metadata": {},
   "outputs": [],
   "source": [
    "# the object that will contain the data and data-specific parameters for benchmarking\n",
    "\n",
    "class BenchMarkingData:\n",
    "    def __init__(self, name, func, pt=True):\n",
    "        self.name = name\n",
    "        adata = sc.read_h5ad(f'../data/benchmarking_data/{name}.h5ad')\n",
    "\n",
    "        self.adata = prepare_for_test(\n",
    "            adata,\n",
    "            name,\n",
    "            func,\n",
    "            pt=pt\n",
    "        )\n",
    "        \n",
    "        self.cluster_edges()\n",
    "        \n",
    "    def cluster_edges(self):\n",
    "        if \"mini_V3\" in self.name:\n",
    "            self.obs = 'leiden'\n",
    "            self.cluster_edges = [\n",
    "                ('5','14'),\n",
    "                ('14','8'),\n",
    "                ('8','21')\n",
    "            ]\n",
    "        elif \"mini_MN\" in self.name:\n",
    "            self.obs = 'leiden'\n",
    "            self.cluster_edges = [\n",
    "                ('16','15'),\n",
    "                ('20','23'),\n",
    "                ('13','18')\n",
    "            ]\n",
    "        elif \"mini_MD\" in self.name:\n",
    "            self.obs = 'leiden'\n",
    "            self.cluster_edges = [\n",
    "                ('9','12'),\n",
    "                ('25','4'),\n",
    "                ('4','6'),\n",
    "                ('6','22')\n",
    "            ]\n",
    "        elif \"midi_NM\" in self.name:\n",
    "            self.obs = 'cell_annotation'\n",
    "            self.cluster_edges = [\n",
    "                ('Early_Neural','Neural'),\n",
    "                ('NMP','Early_Neural'),\n",
    "                ('NMP','Mesoderm')\n",
    "            ]\n",
    "        elif 'midi_Ne' in self.name:\n",
    "            self.obs = 'cell_annotation'\n",
    "            self.cluster_edges = [\n",
    "                ('Neural','pMN'),\n",
    "                ('pMN','MN'),\n",
    "                ('pMN','p3'),\n",
    "                ('p3','V3')\n",
    "            ]\n",
    "        elif 'maxi' in self.name:\n",
    "            self.obs = 'cell_annotation'\n",
    "            self.cluster_edges = [\n",
    "                ('Early_Neural','Neural'),\n",
    "                ('NMP','Early_Neural'),\n",
    "                ('NMP','Mesoderm'),\n",
    "                ('Neural','pMN'),\n",
    "                ('pMN','MN'),\n",
    "                ('pMN','p3'),\n",
    "                ('p3','V3')\n",
    "            ]"
   ]
  },
  {
   "cell_type": "code",
   "execution_count": 7,
   "metadata": {},
   "outputs": [],
   "source": [
    "def baseline_scores(\n",
    "    adata\n",
    "):\n",
    "    X = adata.obsm['velocity_pca']\n",
    "    Y1 = adata.obsm['cellrank_baseline']\n",
    "    Y2 = adata.obsm['pseudotime_baseline']\n",
    "    cr_scores = np.diagonal(cosine_similarity(X, Y1))\n",
    "    pt_scores = np.diagonal(cosine_similarity(X, Y2))\n",
    "    return cr_scores, pt_scores\n",
    "\n",
    "def run_tests(bm):\n",
    "    cbd = cross_boundary_correctness(\n",
    "        bm.adata,\n",
    "        k_cluster=bm.obs,\n",
    "        k_velocity='velocity',\n",
    "        x_emb='X_pca',\n",
    "        cluster_edges=bm.cluster_edges\n",
    "    )[1]\n",
    "\n",
    "    icc = inner_cluster_coh(\n",
    "        bm.adata,\n",
    "        k_cluster=bm.obs,\n",
    "        k_velocity='velocity',\n",
    "    )[1]\n",
    "    \n",
    "    crs, pts = baseline_scores(bm.adata)\n",
    "    \n",
    "    return cbd, icc, crs, pts\n",
    "\n",
    "def perform_benchmark(\n",
    "    pipeline_name,\n",
    "    velocity_pipeline, \n",
    "    output_folder\n",
    "):\n",
    "    dataset = ['splicing_mini_V3', 'splicing_mini_MN', 'splicing_mini_MD',\n",
    "               'splicing_midi_NM', 'splicing_midi_Ne', 'splicing_maxi']\n",
    "\n",
    "    \n",
    "    for ds in tqdm(dataset):  \n",
    "        bm_data = BenchMarkingData(ds, velocity_pipeline, pt=(ds!='splicing_maxi'))\n",
    "        print(ds)\n",
    "        cbd, icc, crs, pts = run_tests(bm_data)\n",
    "        np.save(f'{output_folder}/{ds}_{pipeline_name}_CBD.npy', cbd)\n",
    "        np.save(f'{output_folder}/{ds}_{pipeline_name}_ICC.npy', icc)\n",
    "        np.save(f'{output_folder}/{ds}_{pipeline_name}_CRS.npy', crs)\n",
    "        if ds!='splicing_maxi':\n",
    "            np.save(f'{output_folder}/{ds}_{pipeline_name}_PTS.npy', pts)\n",
    "        "
   ]
  },
  {
   "cell_type": "code",
   "execution_count": 8,
   "metadata": {},
   "outputs": [],
   "source": [
    "# perform_benchmark(\n",
    "#     pipeline_name='velvetsplicing_RAW',\n",
    "#     velocity_pipeline=velvetsplicing_pipeline, \n",
    "#     output_folder='../output_data/'\n",
    "# )"
   ]
  },
  {
   "cell_type": "code",
   "execution_count": 9,
   "metadata": {},
   "outputs": [
    {
     "name": "stderr",
     "output_type": "stream",
     "text": [
      "\r",
      "  0%|          | 0/6 [00:00<?, ?it/s]"
     ]
    },
    {
     "name": "stdout",
     "output_type": "stream",
     "text": [
      "Using ScanPy methods to calculate distances, indices, connectivities, transitions, ... done! \n",
      "KNN indices for Velvet stored in .obsm['knn_index'].\n",
      "Dense similarity transition matrix for Velvet stored in .obsm['Ts'].\n",
      "\u001b[34mINFO    \u001b[0m Generating sequential column names                                                                        \n",
      "\u001b[34mINFO    \u001b[0m Generating sequential column names                                                                        \n"
     ]
    },
    {
     "name": "stderr",
     "output_type": "stream",
     "text": [
      "Multiprocessing is handled by SLURM.\n",
      "GPU available: True (cuda), used: True\n",
      "TPU available: False, using: 0 TPU cores\n",
      "IPU available: False, using: 0 IPUs\n",
      "HPU available: False, using: 0 HPUs\n",
      "LOCAL_RANK: 0 - CUDA_VISIBLE_DEVICES: [0]\n",
      "SLURM auto-requeueing enabled. Setting signal handlers.\n"
     ]
    },
    {
     "name": "stdout",
     "output_type": "stream",
     "text": [
      "Epoch 1000/1000: 100%|██████████| 1000/1000 [01:54<00:00,  9.33it/s, loss=0.412, v_num=1] "
     ]
    },
    {
     "name": "stderr",
     "output_type": "stream",
     "text": [
      "`Trainer.fit` stopped: `max_epochs=1000` reached.\n"
     ]
    },
    {
     "name": "stdout",
     "output_type": "stream",
     "text": [
      "Epoch 1000/1000: 100%|██████████| 1000/1000 [01:54<00:00,  8.72it/s, loss=0.412, v_num=1]\n",
      "computing neighbors\n",
      "    finished (0:00:09) --> added \n",
      "    'distances' and 'connectivities', weighted adjacency matrices (adata.obsp)\n",
      "splicing_mini_V3\n"
     ]
    },
    {
     "name": "stderr",
     "output_type": "stream",
     "text": [
      "\r",
      " 17%|█▋        | 1/6 [02:37<13:07, 157.56s/it]"
     ]
    },
    {
     "name": "stdout",
     "output_type": "stream",
     "text": [
      "Using ScanPy methods to calculate distances, indices, connectivities, transitions, ... done! \n",
      "KNN indices for Velvet stored in .obsm['knn_index'].\n",
      "Dense similarity transition matrix for Velvet stored in .obsm['Ts'].\n",
      "\u001b[34mINFO    \u001b[0m Generating sequential column names                                                                        \n",
      "\u001b[34mINFO    \u001b[0m Generating sequential column names                                                                        \n"
     ]
    },
    {
     "name": "stderr",
     "output_type": "stream",
     "text": [
      "Multiprocessing is handled by SLURM.\n",
      "GPU available: True (cuda), used: True\n",
      "TPU available: False, using: 0 TPU cores\n",
      "IPU available: False, using: 0 IPUs\n",
      "HPU available: False, using: 0 HPUs\n",
      "LOCAL_RANK: 0 - CUDA_VISIBLE_DEVICES: [0]\n",
      "SLURM auto-requeueing enabled. Setting signal handlers.\n"
     ]
    },
    {
     "name": "stdout",
     "output_type": "stream",
     "text": [
      "Epoch 1000/1000: 100%|██████████| 1000/1000 [02:32<00:00,  5.85it/s, loss=0.589, v_num=1] "
     ]
    },
    {
     "name": "stderr",
     "output_type": "stream",
     "text": [
      "`Trainer.fit` stopped: `max_epochs=1000` reached.\n"
     ]
    },
    {
     "name": "stdout",
     "output_type": "stream",
     "text": [
      "Epoch 1000/1000: 100%|██████████| 1000/1000 [02:32<00:00,  6.58it/s, loss=0.589, v_num=1]\n",
      "computing neighbors\n",
      "    finished (0:00:19) --> added \n",
      "    'distances' and 'connectivities', weighted adjacency matrices (adata.obsp)\n",
      "splicing_mini_MN\n"
     ]
    },
    {
     "name": "stderr",
     "output_type": "stream",
     "text": [
      "\r",
      " 33%|███▎      | 2/6 [06:06<12:30, 187.57s/it]"
     ]
    },
    {
     "name": "stdout",
     "output_type": "stream",
     "text": [
      "Using ScanPy methods to calculate distances, indices, connectivities, transitions, ... done! \n",
      "KNN indices for Velvet stored in .obsm['knn_index'].\n",
      "Dense similarity transition matrix for Velvet stored in .obsm['Ts'].\n",
      "\u001b[34mINFO    \u001b[0m Generating sequential column names                                                                        \n",
      "\u001b[34mINFO    \u001b[0m Generating sequential column names                                                                        \n"
     ]
    },
    {
     "name": "stderr",
     "output_type": "stream",
     "text": [
      "Multiprocessing is handled by SLURM.\n",
      "GPU available: True (cuda), used: True\n",
      "TPU available: False, using: 0 TPU cores\n",
      "IPU available: False, using: 0 IPUs\n",
      "HPU available: False, using: 0 HPUs\n",
      "LOCAL_RANK: 0 - CUDA_VISIBLE_DEVICES: [0]\n",
      "SLURM auto-requeueing enabled. Setting signal handlers.\n"
     ]
    },
    {
     "name": "stdout",
     "output_type": "stream",
     "text": [
      "Epoch 1000/1000: 100%|██████████| 1000/1000 [02:10<00:00,  7.63it/s, loss=0.505, v_num=1] "
     ]
    },
    {
     "name": "stderr",
     "output_type": "stream",
     "text": [
      "`Trainer.fit` stopped: `max_epochs=1000` reached.\n"
     ]
    },
    {
     "name": "stdout",
     "output_type": "stream",
     "text": [
      "Epoch 1000/1000: 100%|██████████| 1000/1000 [02:10<00:00,  7.65it/s, loss=0.505, v_num=1]\n",
      "computing neighbors\n",
      "    finished (0:00:01) --> added \n",
      "    'distances' and 'connectivities', weighted adjacency matrices (adata.obsp)\n",
      "splicing_mini_MD\n"
     ]
    },
    {
     "name": "stderr",
     "output_type": "stream",
     "text": [
      "\r",
      " 50%|█████     | 3/6 [08:58<09:01, 180.43s/it]"
     ]
    },
    {
     "name": "stdout",
     "output_type": "stream",
     "text": [
      "Using ScanPy methods to calculate distances, indices, connectivities, transitions, ... done! \n",
      "KNN indices for Velvet stored in .obsm['knn_index'].\n",
      "Dense similarity transition matrix for Velvet stored in .obsm['Ts'].\n",
      "\u001b[34mINFO    \u001b[0m Generating sequential column names                                                                        \n",
      "\u001b[34mINFO    \u001b[0m Generating sequential column names                                                                        \n"
     ]
    },
    {
     "name": "stderr",
     "output_type": "stream",
     "text": [
      "Multiprocessing is handled by SLURM.\n",
      "GPU available: True (cuda), used: True\n",
      "TPU available: False, using: 0 TPU cores\n",
      "IPU available: False, using: 0 IPUs\n",
      "HPU available: False, using: 0 HPUs\n",
      "LOCAL_RANK: 0 - CUDA_VISIBLE_DEVICES: [0]\n",
      "SLURM auto-requeueing enabled. Setting signal handlers.\n"
     ]
    },
    {
     "name": "stdout",
     "output_type": "stream",
     "text": [
      "Epoch 1000/1000: 100%|██████████| 1000/1000 [03:59<00:00,  3.66it/s, loss=0.477, v_num=1] "
     ]
    },
    {
     "name": "stderr",
     "output_type": "stream",
     "text": [
      "`Trainer.fit` stopped: `max_epochs=1000` reached.\n"
     ]
    },
    {
     "name": "stdout",
     "output_type": "stream",
     "text": [
      "Epoch 1000/1000: 100%|██████████| 1000/1000 [03:59<00:00,  4.17it/s, loss=0.477, v_num=1]\n",
      "computing neighbors\n",
      "    finished (0:00:03) --> added \n",
      "    'distances' and 'connectivities', weighted adjacency matrices (adata.obsp)\n",
      "splicing_midi_NM\n"
     ]
    },
    {
     "name": "stderr",
     "output_type": "stream",
     "text": [
      "\r",
      " 67%|██████▋   | 4/6 [14:31<08:01, 240.66s/it]"
     ]
    },
    {
     "name": "stdout",
     "output_type": "stream",
     "text": [
      "Using ScanPy methods to calculate distances, indices, connectivities, transitions, ... done! \n",
      "KNN indices for Velvet stored in .obsm['knn_index'].\n",
      "Dense similarity transition matrix for Velvet stored in .obsm['Ts'].\n",
      "\u001b[34mINFO    \u001b[0m Generating sequential column names                                                                        \n",
      "\u001b[34mINFO    \u001b[0m Generating sequential column names                                                                        \n"
     ]
    },
    {
     "name": "stderr",
     "output_type": "stream",
     "text": [
      "Multiprocessing is handled by SLURM.\n",
      "GPU available: True (cuda), used: True\n",
      "TPU available: False, using: 0 TPU cores\n",
      "IPU available: False, using: 0 IPUs\n",
      "HPU available: False, using: 0 HPUs\n",
      "LOCAL_RANK: 0 - CUDA_VISIBLE_DEVICES: [0]\n",
      "SLURM auto-requeueing enabled. Setting signal handlers.\n"
     ]
    },
    {
     "name": "stdout",
     "output_type": "stream",
     "text": [
      "Epoch 1000/1000: 100%|██████████| 1000/1000 [05:09<00:00,  3.13it/s, loss=0.664, v_num=1] "
     ]
    },
    {
     "name": "stderr",
     "output_type": "stream",
     "text": [
      "`Trainer.fit` stopped: `max_epochs=1000` reached.\n"
     ]
    },
    {
     "name": "stdout",
     "output_type": "stream",
     "text": [
      "Epoch 1000/1000: 100%|██████████| 1000/1000 [05:09<00:00,  3.23it/s, loss=0.664, v_num=1]\n",
      "computing neighbors\n",
      "    finished (0:00:03) --> added \n",
      "    'distances' and 'connectivities', weighted adjacency matrices (adata.obsp)\n",
      "splicing_midi_Ne\n"
     ]
    },
    {
     "name": "stderr",
     "output_type": "stream",
     "text": [
      "\r",
      " 83%|████████▎ | 5/6 [21:27<05:03, 303.91s/it]"
     ]
    },
    {
     "name": "stdout",
     "output_type": "stream",
     "text": [
      "Using ScanPy methods to calculate distances, indices, connectivities, transitions, ... done! \n",
      "KNN indices for Velvet stored in .obsm['knn_index'].\n",
      "Dense similarity transition matrix for Velvet stored in .obsm['Ts'].\n",
      "\u001b[34mINFO    \u001b[0m Generating sequential column names                                                                        \n",
      "\u001b[34mINFO    \u001b[0m Generating sequential column names                                                                        \n"
     ]
    },
    {
     "name": "stderr",
     "output_type": "stream",
     "text": [
      "Multiprocessing is handled by SLURM.\n",
      "GPU available: True (cuda), used: True\n",
      "TPU available: False, using: 0 TPU cores\n",
      "IPU available: False, using: 0 IPUs\n",
      "HPU available: False, using: 0 HPUs\n",
      "LOCAL_RANK: 0 - CUDA_VISIBLE_DEVICES: [0]\n",
      "SLURM auto-requeueing enabled. Setting signal handlers.\n"
     ]
    },
    {
     "name": "stdout",
     "output_type": "stream",
     "text": [
      "Epoch 1000/1000: 100%|██████████| 1000/1000 [11:25<00:00,  1.46it/s, loss=0.678, v_num=1] "
     ]
    },
    {
     "name": "stderr",
     "output_type": "stream",
     "text": [
      "`Trainer.fit` stopped: `max_epochs=1000` reached.\n"
     ]
    },
    {
     "name": "stdout",
     "output_type": "stream",
     "text": [
      "Epoch 1000/1000: 100%|██████████| 1000/1000 [11:25<00:00,  1.46it/s, loss=0.678, v_num=1]\n",
      "computing neighbors\n",
      "    finished (0:00:07) --> added \n",
      "    'distances' and 'connectivities', weighted adjacency matrices (adata.obsp)\n",
      "splicing_maxi\n"
     ]
    },
    {
     "name": "stderr",
     "output_type": "stream",
     "text": [
      "100%|██████████| 6/6 [39:09<00:00, 391.54s/it]\n"
     ]
    }
   ],
   "source": [
    "perform_benchmark(\n",
    "    pipeline_name='velvetsplicing_SMOOTH',\n",
    "    velocity_pipeline=velvetsplicing_pipeline_with_smoothing, \n",
    "    output_folder='../output_data/'\n",
    ")"
   ]
  },
  {
   "cell_type": "code",
   "execution_count": 10,
   "metadata": {},
   "outputs": [
    {
     "name": "stdout",
     "output_type": "stream",
     "text": [
      "f\n"
     ]
    }
   ],
   "source": [
    "print('f')"
   ]
  },
  {
   "cell_type": "code",
   "execution_count": null,
   "metadata": {},
   "outputs": [],
   "source": []
  }
 ],
 "metadata": {
  "kernelspec": {
   "display_name": "velvet_env1",
   "language": "python",
   "name": "velvet_env1"
  },
  "language_info": {
   "codemirror_mode": {
    "name": "ipython",
    "version": 3
   },
   "file_extension": ".py",
   "mimetype": "text/x-python",
   "name": "python",
   "nbconvert_exporter": "python",
   "pygments_lexer": "ipython3",
   "version": "3.10.11"
  }
 },
 "nbformat": 4,
 "nbformat_minor": 2
}
