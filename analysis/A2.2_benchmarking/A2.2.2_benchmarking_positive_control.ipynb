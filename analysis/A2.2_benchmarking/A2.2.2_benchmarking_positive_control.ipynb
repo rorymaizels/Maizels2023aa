{
 "cells": [
  {
   "cell_type": "code",
   "execution_count": 1,
   "id": "38dab992",
   "metadata": {},
   "outputs": [
    {
     "name": "stderr",
     "output_type": "stream",
     "text": [
      "Global seed set to 0\n",
      "/camp/home/maizelr/.local/lib/python3.10/site-packages/pytorch_lightning/utilities/warnings.py:53: LightningDeprecationWarning: pytorch_lightning.utilities.warnings.rank_zero_deprecation has been deprecated in v1.6 and will be removed in v1.8. Use the equivalent function from the pytorch_lightning.utilities.rank_zero module instead.\n",
      "  new_rank_zero_deprecation(\n",
      "/camp/home/maizelr/.local/lib/python3.10/site-packages/pytorch_lightning/utilities/warnings.py:58: LightningDeprecationWarning: The `pytorch_lightning.loggers.base.rank_zero_experiment` is deprecated in v1.7 and will be removed in v1.9. Please use `pytorch_lightning.loggers.logger.rank_zero_experiment` instead.\n",
      "  return new_rank_zero_deprecation(*args, **kwargs)\n"
     ]
    }
   ],
   "source": [
    "import velvet as vt\n",
    "\n",
    "# general packages\n",
    "import numpy as np\n",
    "import pandas as pd\n",
    "import torch\n",
    "from scipy.sparse import issparse\n",
    "\n",
    "# velocity packages\n",
    "import scanpy as sc\n",
    "import scvelo as scv\n",
    "import anndata as ann\n",
    "\n",
    "# plotting packages\n",
    "from sklearn.decomposition import PCA\n",
    "import matplotlib.pyplot as plt\n",
    "import seaborn as sns\n",
    "from tqdm import tqdm, trange\n",
    "from IPython.display import clear_output\n",
    "\n",
    "# color palette object\n",
    "from colors import colorpalette as colpal"
   ]
  },
  {
   "cell_type": "code",
   "execution_count": 12,
   "id": "e9259fa4",
   "metadata": {},
   "outputs": [],
   "source": [
    "from sklearn.metrics.pairwise import cosine_similarity\n",
    "from eval_functions import unitvelo_cross_boundary_correctness as cross_boundary_correctness\n",
    "from  eval_functions import unitvelo_inner_cluster_coh as inner_cluster_coh"
   ]
  },
  {
   "cell_type": "code",
   "execution_count": 26,
   "id": "f0506a0c",
   "metadata": {},
   "outputs": [],
   "source": [
    "dataset = ['mini_V3', 'mini_MN', 'mini_MD',\n",
    "           'midi_NM', 'midi_Ne', 'maxi']\n",
    "\n",
    "scores = np.zeros(len(dataset))\n",
    "for i, name in enumerate(dataset):\n",
    "    adata = sc.read_h5ad(f'../../data/benchmarking/{name}.h5ad')\n",
    "    cr = adata.obsm['velocity_cr_pca'][:,:50]\n",
    "    pt = adata.obsm['velocity_pst'][:,:50]\n",
    "    score = np.diagonal(cosine_similarity(cr, pt)).mean()\n",
    "    scores[i] = score\n",
    "\n",
    "np.save('../../output_data/benchmarking_scores/positive_control.npy', scores)"
   ]
  },
  {
   "cell_type": "code",
   "execution_count": 55,
   "id": "aeba00c5",
   "metadata": {},
   "outputs": [],
   "source": [
    "def CR_pipeline(adata, name):\n",
    "    CR = adata.obsm['velocity_cr_pca'][:,:50]\n",
    "    PCs = adata.varm['precomputed_PCs']\n",
    "    X_pca = adata.obsm['X_pca'][:,:50]\n",
    "    Y_pca = adata.obsm['X_pca'][:,:50] + CR\n",
    "    \n",
    "    X_hat = X_pca @ PCs[:,:50].T\n",
    "    Y_hat = Y_pca @ PCs[:,:50].T\n",
    "    V_hat = Y_hat - X_hat\n",
    "    \n",
    "    return V_hat\n",
    "\n",
    "def PT_pipeline(adata, name):\n",
    "    PT = adata.obsm['velocity_pst'][:,:50]\n",
    "    PCs = adata.varm['precomputed_PCs']\n",
    "    X_pca = adata.obsm['X_pca'][:,:50]\n",
    "    Y_pca = adata.obsm['X_pca'][:,:50] + PT\n",
    "    \n",
    "    X_hat = X_pca @ PCs[:,:50].T\n",
    "    Y_hat = Y_pca @ PCs[:,:50].T\n",
    "    V_hat = Y_hat - X_hat\n",
    "    \n",
    "    return V_hat"
   ]
  },
  {
   "cell_type": "code",
   "execution_count": 53,
   "id": "55d79063",
   "metadata": {},
   "outputs": [],
   "source": [
    "def gene_specific_benchmark(output_folder, pipeline, pipeline_name):\n",
    "    gene_results = {\n",
    "        'mini_MN':[\n",
    "            ['leiden','4','Olig2','-'],\n",
    "            ['leiden','4','Tubb3','+'],\n",
    "            ['leiden','2','Neurog2','+'],\n",
    "            ['leiden','3','Isl2','+'],\n",
    "        ],\n",
    "        'mini_V3':[\n",
    "            ['leiden','1','Sim1','+'],\n",
    "            ['leiden','1','Sox2','-'],\n",
    "            ['leiden','3','Tubb3','+'],\n",
    "            ['leiden','1','Map2','+'],\n",
    "        ],\n",
    "        'mini_MD':[\n",
    "            ['leiden','3','Sox2','-'],\n",
    "            ['leiden','3','Nkx1-2','-'],\n",
    "            ['leiden','3','T','-'],\n",
    "            ['leiden','2','Meox1','+'],\n",
    "        ],\n",
    "        'midi_NM':[\n",
    "            ['cell_annotation','Neural','Olig2','+'],\n",
    "            ['cell_annotation','Neural','T','-'],\n",
    "            ['cell_annotation','Mesoderm','Meox1','+'],\n",
    "            ['cell_annotation','Early_Neural','Irx3','+'],\n",
    "        ],\n",
    "        'midi_Ne':[\n",
    "            ['cell_annotation','Neural','Olig2','+'],\n",
    "            ['cell_annotation','FP','Shh','+'],\n",
    "            ['cell_annotation','P3','Nkx2-2','+'],\n",
    "            ['cell_annotation','pMN','Irx3','-'],\n",
    "        ]\n",
    "    }\n",
    "    \n",
    "    scores = []\n",
    "    for name, settings in gene_results.items():\n",
    "        print(f\"GENE SCORE: {name}\")\n",
    "        adata = sc.read_h5ad(f'../../data/benchmarking/{name}.h5ad')\n",
    "        adata.layers['velocity'] = pipeline(adata, name)\n",
    "\n",
    "        for seti in settings:\n",
    "            sub = adata[adata.obs[seti[0]]==seti[1]]\n",
    "            vel = sub[:,seti[2]].layers['velocity'].flatten()\n",
    "            if seti[3]=='-':\n",
    "                score = np.mean(vel<0)\n",
    "            elif seti[3]=='+':\n",
    "                score = np.mean(vel>0)\n",
    "            scores.append(score)\n",
    "           \n",
    "    scores = np.array(scores)\n",
    "    np.save(f'{output_folder}/{pipeline_name}_gene_specific_scores.npy', scores)"
   ]
  },
  {
   "cell_type": "code",
   "execution_count": 56,
   "id": "2c265584",
   "metadata": {},
   "outputs": [
    {
     "name": "stdout",
     "output_type": "stream",
     "text": [
      "CR...\n",
      "GENE SCORE: mini_MN\n",
      "GENE SCORE: mini_V3\n",
      "GENE SCORE: mini_MD\n",
      "GENE SCORE: midi_NM\n",
      "GENE SCORE: midi_Ne\n",
      "PT...\n",
      "GENE SCORE: mini_MN\n",
      "GENE SCORE: mini_V3\n",
      "GENE SCORE: mini_MD\n",
      "GENE SCORE: midi_NM\n",
      "GENE SCORE: midi_Ne\n"
     ]
    }
   ],
   "source": [
    "print(\"CR...\")\n",
    "gene_specific_benchmark(\n",
    "    output_folder='../../output_data/benchmarking_scores', \n",
    "    pipeline=CR_pipeline, \n",
    "    pipeline_name='CR_POSCONTROL'\n",
    ")\n",
    "\n",
    "print(\"PT...\")\n",
    "gene_specific_benchmark(\n",
    "    output_folder='../../output_data/benchmarking_scores', \n",
    "    pipeline=PT_pipeline, \n",
    "    pipeline_name='PT_POSCONTROL'\n",
    ")"
   ]
  },
  {
   "cell_type": "code",
   "execution_count": null,
   "id": "75bba44b",
   "metadata": {},
   "outputs": [],
   "source": []
  },
  {
   "cell_type": "code",
   "execution_count": 11,
   "id": "4e8db8d5",
   "metadata": {},
   "outputs": [],
   "source": [
    "def get_details(name):\n",
    "    if name == \"mini_MN\":\n",
    "        obs = 'leiden'\n",
    "        cluster_edges = [\n",
    "            ('0','2'),\n",
    "            ('2','4'),\n",
    "            ('2','3'),\n",
    "            ('4','5'),\n",
    "        ]\n",
    "    elif name == \"mini_V3\":\n",
    "        obs = 'leiden'\n",
    "        cluster_edges = [\n",
    "            ('0','1'),\n",
    "            ('1','3'),\n",
    "            ('3','2'),\n",
    "            ('2','4')\n",
    "        ]\n",
    "    elif name == \"mini_MD\":\n",
    "        obs = 'leiden'\n",
    "        cluster_edges = [\n",
    "            ('2','3'),\n",
    "            ('3','0'),\n",
    "            ('3','5'),\n",
    "            ('0','1'),\n",
    "            ('1','4'),\n",
    "        ]\n",
    "    elif name == \"midi_NM\":\n",
    "        obs = 'cell_annotation'\n",
    "        cluster_edges = [\n",
    "            ('Early_Neural','Neural'),\n",
    "            ('NMP','Early_Neural'),\n",
    "            ('NMP','Mesoderm')\n",
    "        ]\n",
    "    elif name == 'midi_Ne':\n",
    "        obs = 'cell_annotation'\n",
    "        cluster_edges = [\n",
    "            ('Neural','pMN'),\n",
    "            ('pMN','MN'),\n",
    "            ('pMN','p3'),\n",
    "            ('p3','V3')\n",
    "        ]\n",
    "    elif name == 'maxi':\n",
    "        obs = 'cell_annotation'\n",
    "        cluster_edges = [\n",
    "            ('Early_Neural','Neural'),\n",
    "            ('NMP','Early_Neural'),\n",
    "            ('NMP','Mesoderm'),\n",
    "            ('Neural','pMN'),\n",
    "            ('pMN','MN'),\n",
    "            ('pMN','p3'),\n",
    "            ('p3','V3')\n",
    "        ]\n",
    "        \n",
    "    return obs, cluster_edges\n"
   ]
  },
  {
   "cell_type": "code",
   "execution_count": 20,
   "id": "d93176d7",
   "metadata": {},
   "outputs": [
    {
     "name": "stderr",
     "output_type": "stream",
     "text": [
      "\r",
      "  0%|          | 0/6 [00:00<?, ?it/s]"
     ]
    },
    {
     "name": "stdout",
     "output_type": "stream",
     "text": [
      "computing neighbors\n",
      "    finished (0:00:02) --> added \n",
      "    'distances' and 'connectivities', weighted adjacency matrices (adata.obsp)\n",
      "computing neighbors\n",
      "    finished (0:00:01) --> added \n",
      "    'distances' and 'connectivities', weighted adjacency matrices (adata.obsp)\n"
     ]
    },
    {
     "name": "stderr",
     "output_type": "stream",
     "text": [
      "\r",
      " 17%|█▋        | 1/6 [00:07<00:39,  7.81s/it]"
     ]
    },
    {
     "name": "stdout",
     "output_type": "stream",
     "text": [
      "computing neighbors\n",
      "    finished (0:00:01) --> added \n",
      "    'distances' and 'connectivities', weighted adjacency matrices (adata.obsp)\n",
      "computing neighbors\n",
      "    finished (0:00:01) --> added \n",
      "    'distances' and 'connectivities', weighted adjacency matrices (adata.obsp)\n"
     ]
    },
    {
     "name": "stderr",
     "output_type": "stream",
     "text": [
      "\r",
      " 33%|███▎      | 2/6 [00:13<00:26,  6.71s/it]"
     ]
    },
    {
     "name": "stdout",
     "output_type": "stream",
     "text": [
      "computing neighbors\n",
      "    finished (0:00:02) --> added \n",
      "    'distances' and 'connectivities', weighted adjacency matrices (adata.obsp)\n",
      "computing neighbors\n",
      "    finished (0:00:02) --> added \n",
      "    'distances' and 'connectivities', weighted adjacency matrices (adata.obsp)\n"
     ]
    },
    {
     "name": "stderr",
     "output_type": "stream",
     "text": [
      "\r",
      " 50%|█████     | 3/6 [00:24<00:25,  8.48s/it]"
     ]
    },
    {
     "name": "stdout",
     "output_type": "stream",
     "text": [
      "computing neighbors\n",
      "    finished (0:00:05) --> added \n",
      "    'distances' and 'connectivities', weighted adjacency matrices (adata.obsp)\n",
      "computing neighbors\n",
      "    finished (0:00:04) --> added \n",
      "    'distances' and 'connectivities', weighted adjacency matrices (adata.obsp)\n"
     ]
    },
    {
     "name": "stderr",
     "output_type": "stream",
     "text": [
      "\r",
      " 67%|██████▋   | 4/6 [00:45<00:27, 13.67s/it]"
     ]
    },
    {
     "name": "stdout",
     "output_type": "stream",
     "text": [
      "computing neighbors\n",
      "    finished (0:00:05) --> added \n",
      "    'distances' and 'connectivities', weighted adjacency matrices (adata.obsp)\n",
      "computing neighbors\n",
      "    finished (0:00:05) --> added \n",
      "    'distances' and 'connectivities', weighted adjacency matrices (adata.obsp)\n"
     ]
    },
    {
     "name": "stderr",
     "output_type": "stream",
     "text": [
      "\r",
      " 83%|████████▎ | 5/6 [01:08<00:16, 16.72s/it]"
     ]
    },
    {
     "name": "stdout",
     "output_type": "stream",
     "text": [
      "computing neighbors\n",
      "    finished (0:00:11) --> added \n",
      "    'distances' and 'connectivities', weighted adjacency matrices (adata.obsp)\n",
      "computing neighbors\n",
      "    finished (0:00:11) --> added \n",
      "    'distances' and 'connectivities', weighted adjacency matrices (adata.obsp)\n"
     ]
    },
    {
     "name": "stderr",
     "output_type": "stream",
     "text": [
      "100%|██████████| 6/6 [01:55<00:00, 19.33s/it]\n"
     ]
    }
   ],
   "source": [
    "dataset = ['mini_V3', 'mini_MN', 'mini_MD',\n",
    "           'midi_NM', 'midi_Ne', 'maxi']\n",
    "\n",
    "results = []\n",
    "for i, name in enumerate(tqdm(dataset)):\n",
    "    adata = sc.read_h5ad(f'../../data/benchmarking/{name}.h5ad')\n",
    "    \n",
    "    for vel in ['velocity_cr_pca','velocity_pst']:\n",
    "        x_pca = adata.obsm['X_pca']\n",
    "        test = ann.AnnData(X=adata.X, obs=adata.obs, var=adata.var,\n",
    "                           layers={'total':adata.layers['total']})\n",
    "        test.obsm['X_pca'] = x_pca[:,:50]\n",
    "        test.obsm['velocity_pca'] = adata.obsm[vel][:,:50]\n",
    "        scv.pp.neighbors(test) \n",
    "\n",
    "        obs, cluster_edges = get_details(name)\n",
    "\n",
    "        cbd = cross_boundary_correctness(\n",
    "            test,\n",
    "            k_cluster=obs,\n",
    "            k_velocity='velocity',\n",
    "            x_emb='X_pca',\n",
    "            cluster_edges=cluster_edges\n",
    "        )[1]\n",
    "        results.append(cbd)\n",
    "    \n"
   ]
  },
  {
   "cell_type": "code",
   "execution_count": 24,
   "id": "9d51fc4d",
   "metadata": {},
   "outputs": [],
   "source": [
    "np.save('../../output_data/benchmarking_scores/CBD_PC.npy', np.array(results))"
   ]
  },
  {
   "cell_type": "code",
   "execution_count": null,
   "id": "44ed7b0e",
   "metadata": {},
   "outputs": [],
   "source": []
  },
  {
   "cell_type": "code",
   "execution_count": 16,
   "id": "57545e21",
   "metadata": {},
   "outputs": [],
   "source": []
  },
  {
   "cell_type": "code",
   "execution_count": null,
   "id": "8cc0b7f1",
   "metadata": {},
   "outputs": [],
   "source": []
  },
  {
   "cell_type": "code",
   "execution_count": null,
   "id": "b6d6c884",
   "metadata": {},
   "outputs": [],
   "source": []
  }
 ],
 "metadata": {
  "kernelspec": {
   "display_name": "velvet_env1",
   "language": "python",
   "name": "velvet_env1"
  },
  "language_info": {
   "codemirror_mode": {
    "name": "ipython",
    "version": 3
   },
   "file_extension": ".py",
   "mimetype": "text/x-python",
   "name": "python",
   "nbconvert_exporter": "python",
   "pygments_lexer": "ipython3",
   "version": "3.10.11"
  }
 },
 "nbformat": 4,
 "nbformat_minor": 5
}
