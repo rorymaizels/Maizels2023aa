{
 "cells": [
  {
   "cell_type": "code",
   "execution_count": 1,
   "id": "907ac35d",
   "metadata": {},
   "outputs": [
    {
     "name": "stderr",
     "output_type": "stream",
     "text": [
      "Global seed set to 0\n",
      "/camp/home/maizelr/.local/lib/python3.10/site-packages/pytorch_lightning/utilities/warnings.py:53: LightningDeprecationWarning: pytorch_lightning.utilities.warnings.rank_zero_deprecation has been deprecated in v1.6 and will be removed in v1.8. Use the equivalent function from the pytorch_lightning.utilities.rank_zero module instead.\n",
      "  new_rank_zero_deprecation(\n",
      "/camp/home/maizelr/.local/lib/python3.10/site-packages/pytorch_lightning/utilities/warnings.py:58: LightningDeprecationWarning: The `pytorch_lightning.loggers.base.rank_zero_experiment` is deprecated in v1.7 and will be removed in v1.9. Please use `pytorch_lightning.loggers.logger.rank_zero_experiment` instead.\n",
      "  return new_rank_zero_deprecation(*args, **kwargs)\n"
     ]
    }
   ],
   "source": [
    "import velvetvae as vt\n",
    "\n",
    "# general packages\n",
    "import numpy as np\n",
    "import pandas as pd\n",
    "import torch\n",
    "from scipy.sparse import issparse\n",
    "\n",
    "# velocity packages\n",
    "import scanpy as sc\n",
    "import scvelo as scv\n",
    "import anndata as ann\n",
    "\n",
    "# plotting packages\n",
    "from sklearn.decomposition import PCA\n",
    "import matplotlib.pyplot as plt\n",
    "import seaborn as sns\n",
    "from tqdm import tqdm, trange\n",
    "from IPython.display import clear_output\n",
    "\n",
    "# color palette object\n",
    "from colors import colorpalette as colpal"
   ]
  },
  {
   "cell_type": "code",
   "execution_count": 2,
   "id": "a50c59dc",
   "metadata": {},
   "outputs": [],
   "source": [
    "from benchmarking_functions import *\n",
    "\n",
    "import velvetvae as vt\n",
    "import torch"
   ]
  },
  {
   "cell_type": "code",
   "execution_count": 4,
   "id": "bdc60ea8",
   "metadata": {},
   "outputs": [],
   "source": [
    "def velvet_pipeline(adata0, name, NC='latent_space', DG='learned'):\n",
    "    adata = adata0.copy()\n",
    "\n",
    "    adata.layers['total'] = (\n",
    "        adata.layers['total'].A if issparse(adata.layers['total']) else adata.layers['total']\n",
    "    )\n",
    "    adata.layers['new'] = (\n",
    "        adata.layers['new'].A if issparse(adata.layers['new']) else adata.layers['new']\n",
    "    )\n",
    "    \n",
    "    vt.pp.neighborhood(adata, n_neighbors=100)\n",
    "    \n",
    "    vt.ut.set_seed(0)\n",
    "    \n",
    "    vt.md.Velvet.setup_anndata(adata, x_layer='total', n_layer='new', knn_layer='knn_index')\n",
    "\n",
    "    model = vt.md.Velvet(\n",
    "        adata,\n",
    "        n_latent = 50,\n",
    "        linear_decoder = True,\n",
    "        neighborhood_space = NC,\n",
    "        biophysical_model = \"full\",\n",
    "        gamma_mode = DG,\n",
    "        labelling_time = 2.0,\n",
    "    )\n",
    "\n",
    "    model.setup_model()\n",
    "    \n",
    "    model.train(\n",
    "        batch_size = adata.shape[0],\n",
    "        max_epochs = 1000, \n",
    "        freeze_vae_after_epochs = 200,\n",
    "        constrain_vf_after_epochs = 200,\n",
    "        lr=0.001,\n",
    "    )\n",
    "    \n",
    "    V = model.predict_velocity()\n",
    "    V = V.A if issparse(V) else V\n",
    "    V = np.nan_to_num(V, nan=0, neginf=0, posinf=0)\n",
    "    \n",
    "    return V"
   ]
  },
  {
   "cell_type": "code",
   "execution_count": null,
   "id": "ad3d7514",
   "metadata": {},
   "outputs": [
    {
     "name": "stdout",
     "output_type": "stream",
     "text": [
      "Running velvet_NoC_NoG...\n"
     ]
    },
    {
     "name": "stderr",
     "output_type": "stream",
     "text": [
      "\r",
      "  0%|          | 0/6 [00:00<?, ?it/s]"
     ]
    },
    {
     "name": "stdout",
     "output_type": "stream",
     "text": [
      "Using ScanPy methods to calculate distances, indices, connectivities, transitions, ... done! \n",
      "KNN indices for Velvet stored in .obsm['knn_index'].\n",
      "Dense similarity transition matrix for Velvet stored in .obsm['Ts'].\n",
      "\u001b[34mINFO    \u001b[0m Generating sequential column names                                                  \n"
     ]
    },
    {
     "name": "stderr",
     "output_type": "stream",
     "text": [
      "Multiprocessing is handled by SLURM.\n",
      "GPU available: True (cuda), used: True\n",
      "TPU available: False, using: 0 TPU cores\n",
      "IPU available: False, using: 0 IPUs\n",
      "HPU available: False, using: 0 HPUs\n",
      "LOCAL_RANK: 0 - CUDA_VISIBLE_DEVICES: [0]\n",
      "SLURM auto-requeueing enabled. Setting signal handlers.\n"
     ]
    },
    {
     "name": "stdout",
     "output_type": "stream",
     "text": [
      "Epoch 1000/1000: 100%|██████████| 1000/1000 [01:18<00:00, 12.63it/s, loss=1.17, v_num=1]  "
     ]
    },
    {
     "name": "stderr",
     "output_type": "stream",
     "text": [
      "`Trainer.fit` stopped: `max_epochs=1000` reached.\n"
     ]
    },
    {
     "name": "stdout",
     "output_type": "stream",
     "text": [
      "Epoch 1000/1000: 100%|██████████| 1000/1000 [01:18<00:00, 12.68it/s, loss=1.17, v_num=1]\n",
      "computing neighbors\n",
      "    finished (0:00:01) --> added \n",
      "    'distances' and 'connectivities', weighted adjacency matrices (adata.obsp)\n",
      "mini_V3\n"
     ]
    },
    {
     "name": "stderr",
     "output_type": "stream",
     "text": [
      "\r",
      " 17%|█▋        | 1/6 [01:43<08:36, 103.28s/it]"
     ]
    },
    {
     "name": "stdout",
     "output_type": "stream",
     "text": [
      "Using ScanPy methods to calculate distances, indices, connectivities, transitions, ... done! \n",
      "KNN indices for Velvet stored in .obsm['knn_index'].\n",
      "Dense similarity transition matrix for Velvet stored in .obsm['Ts'].\n",
      "\u001b[34mINFO    \u001b[0m Generating sequential column names                                                  \n"
     ]
    },
    {
     "name": "stderr",
     "output_type": "stream",
     "text": [
      "Multiprocessing is handled by SLURM.\n",
      "GPU available: True (cuda), used: True\n",
      "TPU available: False, using: 0 TPU cores\n",
      "IPU available: False, using: 0 IPUs\n",
      "HPU available: False, using: 0 HPUs\n",
      "LOCAL_RANK: 0 - CUDA_VISIBLE_DEVICES: [0]\n",
      "SLURM auto-requeueing enabled. Setting signal handlers.\n"
     ]
    },
    {
     "name": "stdout",
     "output_type": "stream",
     "text": [
      "Epoch 1000/1000: 100%|██████████| 1000/1000 [01:20<00:00, 12.67it/s, loss=1.1, v_num=1]   "
     ]
    },
    {
     "name": "stderr",
     "output_type": "stream",
     "text": [
      "`Trainer.fit` stopped: `max_epochs=1000` reached.\n"
     ]
    },
    {
     "name": "stdout",
     "output_type": "stream",
     "text": [
      "Epoch 1000/1000: 100%|██████████| 1000/1000 [01:20<00:00, 12.40it/s, loss=1.1, v_num=1]\n",
      "computing neighbors\n",
      "    finished (0:00:01) --> added \n",
      "    'distances' and 'connectivities', weighted adjacency matrices (adata.obsp)\n",
      "mini_MN\n"
     ]
    },
    {
     "name": "stderr",
     "output_type": "stream",
     "text": [
      "\r",
      " 33%|███▎      | 2/6 [03:28<06:57, 104.32s/it]"
     ]
    },
    {
     "name": "stdout",
     "output_type": "stream",
     "text": [
      "Using ScanPy methods to calculate distances, indices, connectivities, transitions, ... done! \n",
      "KNN indices for Velvet stored in .obsm['knn_index'].\n",
      "Dense similarity transition matrix for Velvet stored in .obsm['Ts'].\n",
      "\u001b[34mINFO    \u001b[0m Generating sequential column names                                                  \n"
     ]
    },
    {
     "name": "stderr",
     "output_type": "stream",
     "text": [
      "Multiprocessing is handled by SLURM.\n",
      "GPU available: True (cuda), used: True\n",
      "TPU available: False, using: 0 TPU cores\n",
      "IPU available: False, using: 0 IPUs\n",
      "HPU available: False, using: 0 HPUs\n",
      "LOCAL_RANK: 0 - CUDA_VISIBLE_DEVICES: [0]\n",
      "SLURM auto-requeueing enabled. Setting signal handlers.\n"
     ]
    },
    {
     "name": "stdout",
     "output_type": "stream",
     "text": [
      "Epoch 1000/1000: 100%|██████████| 1000/1000 [01:38<00:00, 10.19it/s, loss=1.1, v_num=1]   "
     ]
    },
    {
     "name": "stderr",
     "output_type": "stream",
     "text": [
      "`Trainer.fit` stopped: `max_epochs=1000` reached.\n"
     ]
    },
    {
     "name": "stdout",
     "output_type": "stream",
     "text": [
      "Epoch 1000/1000: 100%|██████████| 1000/1000 [01:38<00:00, 10.15it/s, loss=1.1, v_num=1]\n",
      "computing neighbors\n",
      "    finished (0:00:22) --> added \n",
      "    'distances' and 'connectivities', weighted adjacency matrices (adata.obsp)\n",
      "mini_MD\n"
     ]
    },
    {
     "name": "stderr",
     "output_type": "stream",
     "text": [
      "\r",
      " 50%|█████     | 3/6 [06:07<06:27, 129.17s/it]"
     ]
    },
    {
     "name": "stdout",
     "output_type": "stream",
     "text": [
      "Using ScanPy methods to calculate distances, indices, connectivities, transitions, ... done! \n",
      "KNN indices for Velvet stored in .obsm['knn_index'].\n",
      "Dense similarity transition matrix for Velvet stored in .obsm['Ts'].\n",
      "\u001b[34mINFO    \u001b[0m Generating sequential column names                                                  \n"
     ]
    },
    {
     "name": "stderr",
     "output_type": "stream",
     "text": [
      "Multiprocessing is handled by SLURM.\n",
      "GPU available: True (cuda), used: True\n",
      "TPU available: False, using: 0 TPU cores\n",
      "IPU available: False, using: 0 IPUs\n",
      "HPU available: False, using: 0 HPUs\n",
      "LOCAL_RANK: 0 - CUDA_VISIBLE_DEVICES: [0]\n",
      "SLURM auto-requeueing enabled. Setting signal handlers.\n"
     ]
    },
    {
     "name": "stdout",
     "output_type": "stream",
     "text": [
      "Epoch 1000/1000: 100%|██████████| 1000/1000 [03:34<00:00,  4.55it/s, loss=1.41, v_num=1]  "
     ]
    },
    {
     "name": "stderr",
     "output_type": "stream",
     "text": [
      "`Trainer.fit` stopped: `max_epochs=1000` reached.\n"
     ]
    },
    {
     "name": "stdout",
     "output_type": "stream",
     "text": [
      "Epoch 1000/1000: 100%|██████████| 1000/1000 [03:34<00:00,  4.66it/s, loss=1.41, v_num=1]\n",
      "computing neighbors\n",
      "    finished (0:00:04) --> added \n",
      "    'distances' and 'connectivities', weighted adjacency matrices (adata.obsp)\n",
      "midi_NM\n"
     ]
    },
    {
     "name": "stderr",
     "output_type": "stream",
     "text": [
      "\r",
      " 67%|██████▋   | 4/6 [11:13<06:38, 199.29s/it]"
     ]
    },
    {
     "name": "stdout",
     "output_type": "stream",
     "text": [
      "Using ScanPy methods to calculate distances, indices, connectivities, transitions, ... done! \n",
      "KNN indices for Velvet stored in .obsm['knn_index'].\n",
      "Dense similarity transition matrix for Velvet stored in .obsm['Ts'].\n",
      "\u001b[34mINFO    \u001b[0m Generating sequential column names                                                  \n"
     ]
    },
    {
     "name": "stderr",
     "output_type": "stream",
     "text": [
      "Multiprocessing is handled by SLURM.\n",
      "GPU available: True (cuda), used: True\n",
      "TPU available: False, using: 0 TPU cores\n",
      "IPU available: False, using: 0 IPUs\n",
      "HPU available: False, using: 0 HPUs\n",
      "LOCAL_RANK: 0 - CUDA_VISIBLE_DEVICES: [0]\n",
      "SLURM auto-requeueing enabled. Setting signal handlers.\n"
     ]
    },
    {
     "name": "stdout",
     "output_type": "stream",
     "text": [
      "Epoch 1000/1000: 100%|██████████| 1000/1000 [04:58<00:00,  3.30it/s, loss=1.09, v_num=1]  "
     ]
    },
    {
     "name": "stderr",
     "output_type": "stream",
     "text": [
      "`Trainer.fit` stopped: `max_epochs=1000` reached.\n"
     ]
    },
    {
     "name": "stdout",
     "output_type": "stream",
     "text": [
      "Epoch 1000/1000: 100%|██████████| 1000/1000 [04:58<00:00,  3.36it/s, loss=1.09, v_num=1]\n",
      "computing neighbors\n",
      "    finished (0:00:04) --> added \n",
      "    'distances' and 'connectivities', weighted adjacency matrices (adata.obsp)\n",
      "midi_Ne\n"
     ]
    },
    {
     "name": "stderr",
     "output_type": "stream",
     "text": [
      "\r",
      " 83%|████████▎ | 5/6 [18:05<04:35, 275.91s/it]"
     ]
    },
    {
     "name": "stdout",
     "output_type": "stream",
     "text": [
      "Using ScanPy methods to calculate distances, indices, connectivities, transitions, ... done! \n",
      "KNN indices for Velvet stored in .obsm['knn_index'].\n",
      "Dense similarity transition matrix for Velvet stored in .obsm['Ts'].\n",
      "\u001b[34mINFO    \u001b[0m Generating sequential column names                                                  \n"
     ]
    },
    {
     "name": "stderr",
     "output_type": "stream",
     "text": [
      "Multiprocessing is handled by SLURM.\n",
      "GPU available: True (cuda), used: True\n",
      "TPU available: False, using: 0 TPU cores\n",
      "IPU available: False, using: 0 IPUs\n",
      "HPU available: False, using: 0 HPUs\n",
      "LOCAL_RANK: 0 - CUDA_VISIBLE_DEVICES: [0]\n",
      "SLURM auto-requeueing enabled. Setting signal handlers.\n"
     ]
    },
    {
     "name": "stdout",
     "output_type": "stream",
     "text": [
      "Epoch 1000/1000: 100%|██████████| 1000/1000 [10:09<00:00,  1.60it/s, loss=1.05, v_num=1]  "
     ]
    },
    {
     "name": "stderr",
     "output_type": "stream",
     "text": [
      "`Trainer.fit` stopped: `max_epochs=1000` reached.\n"
     ]
    },
    {
     "name": "stdout",
     "output_type": "stream",
     "text": [
      "Epoch 1000/1000: 100%|██████████| 1000/1000 [10:09<00:00,  1.64it/s, loss=1.05, v_num=1]\n",
      "computing neighbors\n",
      "    finished (0:00:08) --> added \n",
      "    'distances' and 'connectivities', weighted adjacency matrices (adata.obsp)\n",
      "maxi\n"
     ]
    },
    {
     "name": "stderr",
     "output_type": "stream",
     "text": [
      "100%|██████████| 6/6 [33:31<00:00, 335.27s/it]\n"
     ]
    },
    {
     "name": "stdout",
     "output_type": "stream",
     "text": [
      "Running velvet_NoC_WiG...\n"
     ]
    },
    {
     "name": "stderr",
     "output_type": "stream",
     "text": [
      "\r",
      "  0%|          | 0/6 [00:00<?, ?it/s]"
     ]
    },
    {
     "name": "stdout",
     "output_type": "stream",
     "text": [
      "Using ScanPy methods to calculate distances, indices, connectivities, transitions, ... done! \n",
      "KNN indices for Velvet stored in .obsm['knn_index'].\n",
      "Dense similarity transition matrix for Velvet stored in .obsm['Ts'].\n",
      "\u001b[34mINFO    \u001b[0m Generating sequential column names                                                  \n"
     ]
    },
    {
     "name": "stderr",
     "output_type": "stream",
     "text": [
      "Multiprocessing is handled by SLURM.\n",
      "GPU available: True (cuda), used: True\n",
      "TPU available: False, using: 0 TPU cores\n",
      "IPU available: False, using: 0 IPUs\n",
      "HPU available: False, using: 0 HPUs\n",
      "LOCAL_RANK: 0 - CUDA_VISIBLE_DEVICES: [0]\n",
      "SLURM auto-requeueing enabled. Setting signal handlers.\n"
     ]
    },
    {
     "name": "stdout",
     "output_type": "stream",
     "text": [
      "Epoch 1000/1000: 100%|██████████| 1000/1000 [01:01<00:00, 16.24it/s, loss=1.12, v_num=1]  "
     ]
    },
    {
     "name": "stderr",
     "output_type": "stream",
     "text": [
      "`Trainer.fit` stopped: `max_epochs=1000` reached.\n"
     ]
    },
    {
     "name": "stdout",
     "output_type": "stream",
     "text": [
      "Epoch 1000/1000: 100%|██████████| 1000/1000 [01:01<00:00, 16.21it/s, loss=1.12, v_num=1]\n",
      "computing neighbors\n",
      "    finished (0:00:01) --> added \n",
      "    'distances' and 'connectivities', weighted adjacency matrices (adata.obsp)\n",
      "mini_V3\n"
     ]
    },
    {
     "name": "stderr",
     "output_type": "stream",
     "text": [
      "\r",
      " 17%|█▋        | 1/6 [01:25<07:08, 85.78s/it]"
     ]
    },
    {
     "name": "stdout",
     "output_type": "stream",
     "text": [
      "Using ScanPy methods to calculate distances, indices, connectivities, transitions, ... done! \n",
      "KNN indices for Velvet stored in .obsm['knn_index'].\n",
      "Dense similarity transition matrix for Velvet stored in .obsm['Ts'].\n",
      "\u001b[34mINFO    \u001b[0m Generating sequential column names                                                  \n"
     ]
    },
    {
     "name": "stderr",
     "output_type": "stream",
     "text": [
      "Multiprocessing is handled by SLURM.\n",
      "GPU available: True (cuda), used: True\n",
      "TPU available: False, using: 0 TPU cores\n",
      "IPU available: False, using: 0 IPUs\n",
      "HPU available: False, using: 0 HPUs\n",
      "LOCAL_RANK: 0 - CUDA_VISIBLE_DEVICES: [0]\n",
      "SLURM auto-requeueing enabled. Setting signal handlers.\n"
     ]
    },
    {
     "name": "stdout",
     "output_type": "stream",
     "text": [
      "Epoch 1000/1000: 100%|██████████| 1000/1000 [01:19<00:00, 12.63it/s, loss=1.05, v_num=1]  "
     ]
    },
    {
     "name": "stderr",
     "output_type": "stream",
     "text": [
      "`Trainer.fit` stopped: `max_epochs=1000` reached.\n"
     ]
    },
    {
     "name": "stdout",
     "output_type": "stream",
     "text": [
      "Epoch 1000/1000: 100%|██████████| 1000/1000 [01:19<00:00, 12.55it/s, loss=1.05, v_num=1]\n",
      "computing neighbors\n",
      "    finished (0:00:01) --> added \n",
      "    'distances' and 'connectivities', weighted adjacency matrices (adata.obsp)\n",
      "mini_MN\n"
     ]
    },
    {
     "name": "stderr",
     "output_type": "stream",
     "text": [
      "\r",
      " 33%|███▎      | 2/6 [03:10<06:27, 96.90s/it]"
     ]
    },
    {
     "name": "stdout",
     "output_type": "stream",
     "text": [
      "Using ScanPy methods to calculate distances, indices, connectivities, transitions, ... done! \n",
      "KNN indices for Velvet stored in .obsm['knn_index'].\n",
      "Dense similarity transition matrix for Velvet stored in .obsm['Ts'].\n",
      "\u001b[34mINFO    \u001b[0m Generating sequential column names                                                  \n"
     ]
    },
    {
     "name": "stderr",
     "output_type": "stream",
     "text": [
      "Multiprocessing is handled by SLURM.\n",
      "GPU available: True (cuda), used: True\n",
      "TPU available: False, using: 0 TPU cores\n",
      "IPU available: False, using: 0 IPUs\n",
      "HPU available: False, using: 0 HPUs\n",
      "LOCAL_RANK: 0 - CUDA_VISIBLE_DEVICES: [0]\n",
      "SLURM auto-requeueing enabled. Setting signal handlers.\n"
     ]
    },
    {
     "name": "stdout",
     "output_type": "stream",
     "text": [
      "Epoch 1000/1000: 100%|██████████| 1000/1000 [02:02<00:00,  8.14it/s, loss=1.05, v_num=1]  "
     ]
    },
    {
     "name": "stderr",
     "output_type": "stream",
     "text": [
      "`Trainer.fit` stopped: `max_epochs=1000` reached.\n"
     ]
    },
    {
     "name": "stdout",
     "output_type": "stream",
     "text": [
      "Epoch 1000/1000: 100%|██████████| 1000/1000 [02:02<00:00,  8.14it/s, loss=1.05, v_num=1]\n",
      "computing neighbors\n",
      "    finished (0:00:01) --> added \n",
      "    'distances' and 'connectivities', weighted adjacency matrices (adata.obsp)\n",
      "mini_MD\n"
     ]
    },
    {
     "name": "stderr",
     "output_type": "stream",
     "text": [
      "\r",
      " 50%|█████     | 3/6 [05:53<06:21, 127.21s/it]"
     ]
    },
    {
     "name": "stdout",
     "output_type": "stream",
     "text": [
      "Using ScanPy methods to calculate distances, indices, connectivities, transitions, ... done! \n",
      "KNN indices for Velvet stored in .obsm['knn_index'].\n",
      "Dense similarity transition matrix for Velvet stored in .obsm['Ts'].\n",
      "\u001b[34mINFO    \u001b[0m Generating sequential column names                                                  \n"
     ]
    },
    {
     "name": "stderr",
     "output_type": "stream",
     "text": [
      "Multiprocessing is handled by SLURM.\n",
      "GPU available: True (cuda), used: True\n",
      "TPU available: False, using: 0 TPU cores\n",
      "IPU available: False, using: 0 IPUs\n",
      "HPU available: False, using: 0 HPUs\n",
      "LOCAL_RANK: 0 - CUDA_VISIBLE_DEVICES: [0]\n",
      "SLURM auto-requeueing enabled. Setting signal handlers.\n"
     ]
    },
    {
     "name": "stdout",
     "output_type": "stream",
     "text": [
      "Epoch 1000/1000: 100%|██████████| 1000/1000 [03:34<00:00,  4.55it/s, loss=1.34, v_num=1]  "
     ]
    },
    {
     "name": "stderr",
     "output_type": "stream",
     "text": [
      "`Trainer.fit` stopped: `max_epochs=1000` reached.\n"
     ]
    },
    {
     "name": "stdout",
     "output_type": "stream",
     "text": [
      "Epoch 1000/1000: 100%|██████████| 1000/1000 [03:34<00:00,  4.67it/s, loss=1.34, v_num=1]\n",
      "computing neighbors\n",
      "    finished (0:00:03) --> added \n",
      "    'distances' and 'connectivities', weighted adjacency matrices (adata.obsp)\n",
      "midi_NM\n"
     ]
    },
    {
     "name": "stderr",
     "output_type": "stream",
     "text": [
      "\r",
      " 67%|██████▋   | 4/6 [10:57<06:33, 196.73s/it]"
     ]
    },
    {
     "name": "stdout",
     "output_type": "stream",
     "text": [
      "Using ScanPy methods to calculate distances, indices, connectivities, transitions, ... done! \n",
      "KNN indices for Velvet stored in .obsm['knn_index'].\n",
      "Dense similarity transition matrix for Velvet stored in .obsm['Ts'].\n",
      "\u001b[34mINFO    \u001b[0m Generating sequential column names                                                  \n"
     ]
    },
    {
     "name": "stderr",
     "output_type": "stream",
     "text": [
      "Multiprocessing is handled by SLURM.\n",
      "GPU available: True (cuda), used: True\n",
      "TPU available: False, using: 0 TPU cores\n",
      "IPU available: False, using: 0 IPUs\n",
      "HPU available: False, using: 0 HPUs\n",
      "LOCAL_RANK: 0 - CUDA_VISIBLE_DEVICES: [0]\n",
      "SLURM auto-requeueing enabled. Setting signal handlers.\n"
     ]
    },
    {
     "name": "stdout",
     "output_type": "stream",
     "text": [
      "Epoch 1000/1000: 100%|██████████| 1000/1000 [05:01<00:00,  3.25it/s, loss=1.05, v_num=1]  "
     ]
    },
    {
     "name": "stderr",
     "output_type": "stream",
     "text": [
      "`Trainer.fit` stopped: `max_epochs=1000` reached.\n"
     ]
    },
    {
     "name": "stdout",
     "output_type": "stream",
     "text": [
      "Epoch 1000/1000: 100%|██████████| 1000/1000 [05:01<00:00,  3.32it/s, loss=1.05, v_num=1]\n",
      "computing neighbors\n",
      "    finished (0:00:04) --> added \n",
      "    'distances' and 'connectivities', weighted adjacency matrices (adata.obsp)\n",
      "midi_Ne\n"
     ]
    },
    {
     "name": "stderr",
     "output_type": "stream",
     "text": [
      "\r",
      " 83%|████████▎ | 5/6 [17:57<04:37, 277.41s/it]"
     ]
    },
    {
     "name": "stdout",
     "output_type": "stream",
     "text": [
      "Using ScanPy methods to calculate distances, indices, connectivities, transitions, ... done! \n",
      "KNN indices for Velvet stored in .obsm['knn_index'].\n",
      "Dense similarity transition matrix for Velvet stored in .obsm['Ts'].\n",
      "\u001b[34mINFO    \u001b[0m Generating sequential column names                                                  \n"
     ]
    },
    {
     "name": "stderr",
     "output_type": "stream",
     "text": [
      "Multiprocessing is handled by SLURM.\n",
      "GPU available: True (cuda), used: True\n",
      "TPU available: False, using: 0 TPU cores\n",
      "IPU available: False, using: 0 IPUs\n",
      "HPU available: False, using: 0 HPUs\n",
      "LOCAL_RANK: 0 - CUDA_VISIBLE_DEVICES: [0]\n",
      "SLURM auto-requeueing enabled. Setting signal handlers.\n"
     ]
    },
    {
     "name": "stdout",
     "output_type": "stream",
     "text": [
      "Epoch 855/1000:  85%|████████▌ | 854/1000 [08:44<01:27,  1.66it/s, loss=1.03, v_num=1]    "
     ]
    }
   ],
   "source": [
    "for name, nc, dg in zip(\n",
    "    [\"velvet_NoC_NoG\",\"velvet_NoC_WiG\",\"velvet_WiC_NoG\",\"velvet_HDC_WiG\"],\n",
    "    [\"none\",\"none\",\"latent_space\",\"gene_space\"],\n",
    "    [\"fixed\",\"learned\",\"fixed\",\"learned\"],\n",
    "):\n",
    "    print(f\"Running {name}...\")\n",
    "    def func(adata, name):\n",
    "        return velvet_pipeline(adata, name, NC=nc, DG=dg)\n",
    "    \n",
    "    perform_benchmark(\n",
    "        pipeline_name=name,\n",
    "        velocity_pipeline=func, \n",
    "        output_folder='../../output_data/benchmarking_scores'\n",
    "    )"
   ]
  },
  {
   "cell_type": "code",
   "execution_count": null,
   "id": "dbb5a05b",
   "metadata": {},
   "outputs": [],
   "source": []
  },
  {
   "cell_type": "code",
   "execution_count": null,
   "id": "d19d6e5f",
   "metadata": {},
   "outputs": [],
   "source": []
  }
 ],
 "metadata": {
  "kernelspec": {
   "display_name": "velvet_env1",
   "language": "python",
   "name": "velvet_env1"
  },
  "language_info": {
   "codemirror_mode": {
    "name": "ipython",
    "version": 3
   },
   "file_extension": ".py",
   "mimetype": "text/x-python",
   "name": "python",
   "nbconvert_exporter": "python",
   "pygments_lexer": "ipython3",
   "version": "3.10.11"
  }
 },
 "nbformat": 4,
 "nbformat_minor": 5
}
