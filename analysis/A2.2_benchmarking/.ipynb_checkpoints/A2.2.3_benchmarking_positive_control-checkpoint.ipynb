{
 "cells": [
  {
   "cell_type": "code",
   "execution_count": 1,
   "id": "38dab992",
   "metadata": {},
   "outputs": [
    {
     "name": "stderr",
     "output_type": "stream",
     "text": [
      "Global seed set to 0\n",
      "/camp/home/maizelr/.local/lib/python3.10/site-packages/pytorch_lightning/utilities/warnings.py:53: LightningDeprecationWarning: pytorch_lightning.utilities.warnings.rank_zero_deprecation has been deprecated in v1.6 and will be removed in v1.8. Use the equivalent function from the pytorch_lightning.utilities.rank_zero module instead.\n",
      "  new_rank_zero_deprecation(\n",
      "/camp/home/maizelr/.local/lib/python3.10/site-packages/pytorch_lightning/utilities/warnings.py:58: LightningDeprecationWarning: The `pytorch_lightning.loggers.base.rank_zero_experiment` is deprecated in v1.7 and will be removed in v1.9. Please use `pytorch_lightning.loggers.logger.rank_zero_experiment` instead.\n",
      "  return new_rank_zero_deprecation(*args, **kwargs)\n"
     ]
    }
   ],
   "source": [
    "import velvet as vt\n",
    "\n",
    "# general packages\n",
    "import numpy as np\n",
    "import pandas as pd\n",
    "import torch\n",
    "from scipy.sparse import issparse\n",
    "\n",
    "# velocity packages\n",
    "import scanpy as sc\n",
    "import scvelo as scv\n",
    "import anndata as ann\n",
    "\n",
    "# plotting packages\n",
    "from sklearn.decomposition import PCA\n",
    "import matplotlib.pyplot as plt\n",
    "import seaborn as sns\n",
    "from tqdm import tqdm, trange\n",
    "from IPython.display import clear_output\n",
    "\n",
    "# color palette object\n",
    "from colors import colorpalette as colpal"
   ]
  },
  {
   "cell_type": "code",
   "execution_count": 15,
   "id": "e9259fa4",
   "metadata": {},
   "outputs": [],
   "source": [
    "from sklearn.metrics.pairwise import cosine_similarity\n"
   ]
  },
  {
   "cell_type": "code",
   "execution_count": 26,
   "id": "f0506a0c",
   "metadata": {},
   "outputs": [],
   "source": [
    "dataset = ['mini_V3', 'mini_MN', 'mini_MD',\n",
    "           'midi_NM', 'midi_Ne', 'maxi']\n",
    "\n",
    "scores = np.zeros(len(dataset))\n",
    "for i, name in enumerate(dataset):\n",
    "    adata = sc.read_h5ad(f'../../data/benchmarking/{name}.h5ad')\n",
    "    cr = adata.obsm['velocity_cr_pca'][:,:50]\n",
    "    pt = adata.obsm['velocity_pst'][:,:50]\n",
    "    score = np.diagonal(cosine_similarity(cr, pt)).mean()\n",
    "    scores[i] = score\n",
    "\n",
    "np.save('../../output_data/benchmarking_scores/positive_control.npy', scores)"
   ]
  },
  {
   "cell_type": "code",
   "execution_count": 55,
   "id": "aeba00c5",
   "metadata": {},
   "outputs": [],
   "source": [
    "def CR_pipeline(adata, name):\n",
    "    CR = adata.obsm['velocity_cr_pca'][:,:50]\n",
    "    PCs = adata.varm['precomputed_PCs']\n",
    "    X_pca = adata.obsm['X_pca'][:,:50]\n",
    "    Y_pca = adata.obsm['X_pca'][:,:50] + CR\n",
    "    \n",
    "    X_hat = X_pca @ PCs[:,:50].T\n",
    "    Y_hat = Y_pca @ PCs[:,:50].T\n",
    "    V_hat = Y_hat - X_hat\n",
    "    \n",
    "    return V_hat\n",
    "\n",
    "def PT_pipeline(adata, name):\n",
    "    PT = adata.obsm['velocity_pst'][:,:50]\n",
    "    PCs = adata.varm['precomputed_PCs']\n",
    "    X_pca = adata.obsm['X_pca'][:,:50]\n",
    "    Y_pca = adata.obsm['X_pca'][:,:50] + PT\n",
    "    \n",
    "    X_hat = X_pca @ PCs[:,:50].T\n",
    "    Y_hat = Y_pca @ PCs[:,:50].T\n",
    "    V_hat = Y_hat - X_hat\n",
    "    \n",
    "    return V_hat"
   ]
  },
  {
   "cell_type": "code",
   "execution_count": 53,
   "id": "55d79063",
   "metadata": {},
   "outputs": [],
   "source": [
    "def gene_specific_benchmark(output_folder, pipeline, pipeline_name):\n",
    "    gene_results = {\n",
    "        'mini_MN':[\n",
    "            ['leiden','4','Olig2','-'],\n",
    "            ['leiden','4','Tubb3','+'],\n",
    "            ['leiden','2','Neurog2','+'],\n",
    "            ['leiden','3','Isl2','+'],\n",
    "        ],\n",
    "        'mini_V3':[\n",
    "            ['leiden','1','Sim1','+'],\n",
    "            ['leiden','1','Sox2','-'],\n",
    "            ['leiden','3','Tubb3','+'],\n",
    "            ['leiden','1','Map2','+'],\n",
    "        ],\n",
    "        'mini_MD':[\n",
    "            ['leiden','3','Sox2','-'],\n",
    "            ['leiden','3','Nkx1-2','-'],\n",
    "            ['leiden','3','T','-'],\n",
    "            ['leiden','2','Meox1','+'],\n",
    "        ],\n",
    "        'midi_NM':[\n",
    "            ['cell_annotation','Neural','Olig2','+'],\n",
    "            ['cell_annotation','Neural','T','-'],\n",
    "            ['cell_annotation','Mesoderm','Meox1','+'],\n",
    "            ['cell_annotation','Early_Neural','Irx3','+'],\n",
    "        ],\n",
    "        'midi_Ne':[\n",
    "            ['cell_annotation','Neural','Olig2','+'],\n",
    "            ['cell_annotation','FP','Shh','+'],\n",
    "            ['cell_annotation','P3','Nkx2-2','+'],\n",
    "            ['cell_annotation','pMN','Irx3','-'],\n",
    "        ]\n",
    "    }\n",
    "    \n",
    "    scores = []\n",
    "    for name, settings in gene_results.items():\n",
    "        print(f\"GENE SCORE: {name}\")\n",
    "        adata = sc.read_h5ad(f'../../data/benchmarking/{name}.h5ad')\n",
    "        adata.layers['velocity'] = pipeline(adata, name)\n",
    "\n",
    "        for seti in settings:\n",
    "            sub = adata[adata.obs[seti[0]]==seti[1]]\n",
    "            vel = sub[:,seti[2]].layers['velocity'].flatten()\n",
    "            if seti[3]=='-':\n",
    "                score = np.mean(vel<0)\n",
    "            elif seti[3]=='+':\n",
    "                score = np.mean(vel>0)\n",
    "            scores.append(score)\n",
    "           \n",
    "    scores = np.array(scores)\n",
    "    np.save(f'{output_folder}/{pipeline_name}_gene_specific_scores.npy', scores)"
   ]
  },
  {
   "cell_type": "code",
   "execution_count": 56,
   "id": "2c265584",
   "metadata": {},
   "outputs": [
    {
     "name": "stdout",
     "output_type": "stream",
     "text": [
      "CR...\n",
      "GENE SCORE: mini_MN\n",
      "GENE SCORE: mini_V3\n",
      "GENE SCORE: mini_MD\n",
      "GENE SCORE: midi_NM\n",
      "GENE SCORE: midi_Ne\n",
      "PT...\n",
      "GENE SCORE: mini_MN\n",
      "GENE SCORE: mini_V3\n",
      "GENE SCORE: mini_MD\n",
      "GENE SCORE: midi_NM\n",
      "GENE SCORE: midi_Ne\n"
     ]
    }
   ],
   "source": [
    "print(\"CR...\")\n",
    "gene_specific_benchmark(\n",
    "    output_folder='../../output_data/benchmarking_scores', \n",
    "    pipeline=CR_pipeline, \n",
    "    pipeline_name='CR_POSCONTROL'\n",
    ")\n",
    "\n",
    "print(\"PT...\")\n",
    "gene_specific_benchmark(\n",
    "    output_folder='../../output_data/benchmarking_scores', \n",
    "    pipeline=PT_pipeline, \n",
    "    pipeline_name='PT_POSCONTROL'\n",
    ")"
   ]
  },
  {
   "cell_type": "code",
   "execution_count": null,
   "id": "75bba44b",
   "metadata": {},
   "outputs": [],
   "source": []
  },
  {
   "cell_type": "code",
   "execution_count": null,
   "id": "4e8db8d5",
   "metadata": {},
   "outputs": [],
   "source": []
  },
  {
   "cell_type": "code",
   "execution_count": null,
   "id": "d93176d7",
   "metadata": {},
   "outputs": [],
   "source": []
  },
  {
   "cell_type": "code",
   "execution_count": null,
   "id": "9d51fc4d",
   "metadata": {},
   "outputs": [],
   "source": []
  }
 ],
 "metadata": {
  "kernelspec": {
   "display_name": "velvet_env1",
   "language": "python",
   "name": "velvet_env1"
  },
  "language_info": {
   "codemirror_mode": {
    "name": "ipython",
    "version": 3
   },
   "file_extension": ".py",
   "mimetype": "text/x-python",
   "name": "python",
   "nbconvert_exporter": "python",
   "pygments_lexer": "ipython3",
   "version": "3.10.11"
  }
 },
 "nbformat": 4,
 "nbformat_minor": 5
}
