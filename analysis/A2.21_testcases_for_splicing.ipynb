{
 "cells": [
  {
   "cell_type": "code",
   "execution_count": 1,
   "metadata": {},
   "outputs": [
    {
     "name": "stderr",
     "output_type": "stream",
     "text": [
      "/camp/home/maizelr/.local/lib/python3.8/site-packages/torchvision/io/image.py:13: UserWarning: Failed to load image Python extension: /camp/home/maizelr/.local/lib/python3.8/site-packages/torchvision/image.so: undefined symbol: _ZN3c106detail19maybe_wrap_dim_slowEllb\n",
      "  warn(f\"Failed to load image Python extension: {e}\")\n",
      "Global seed set to 0\n",
      "/camp/home/maizelr/.local/lib/python3.8/site-packages/pytorch_lightning/utilities/warnings.py:53: LightningDeprecationWarning: pytorch_lightning.utilities.warnings.rank_zero_deprecation has been deprecated in v1.6 and will be removed in v1.8. Use the equivalent function from the pytorch_lightning.utilities.rank_zero module instead.\n",
      "  new_rank_zero_deprecation(\n",
      "/camp/home/maizelr/.local/lib/python3.8/site-packages/pytorch_lightning/utilities/warnings.py:58: LightningDeprecationWarning: The `pytorch_lightning.loggers.base.rank_zero_experiment` is deprecated in v1.7 and will be removed in v1.9. Please use `pytorch_lightning.loggers.logger.rank_zero_experiment` instead.\n",
      "  return new_rank_zero_deprecation(*args, **kwargs)\n"
     ]
    }
   ],
   "source": [
    "import sys\n",
    "sys.path.insert(0, '../../vector_field/velvet_ecosystem/velvet/')\n",
    "import velvet as vt\n",
    "\n",
    "import scvelo as scv\n",
    "import scanpy as sc\n",
    "\n",
    "import numpy as np\n",
    "import matplotlib.pyplot as plt\n",
    "import pandas as pd\n",
    "import seaborn as sns\n",
    "from tqdm import tqdm, trange\n",
    "\n"
   ]
  },
  {
   "cell_type": "code",
   "execution_count": 2,
   "metadata": {},
   "outputs": [],
   "source": [
    "adata0 = vt.pp.read(\"../data/celltyped_adata_splicing.h5ad\")\n",
    "adata0 = adata0[adata0.obs.cell_annotation!='other']"
   ]
  },
  {
   "cell_type": "code",
   "execution_count": 3,
   "metadata": {},
   "outputs": [
    {
     "data": {
      "text/plain": [
       "View of AnnData object with n_obs × n_vars = 45037 × 24967\n",
       "    obs: 'X_TC_alpha', 'total_TC_alpha', 'unspliced_TC_alpha', 'spliced_TC_alpha', 'p_e', 'p_c_TC', 'sample', 'timepoint', 'rep', 'marker_based_classification', 'cell_annotation', 'cell_annotation_detailed'\n",
       "    layers: 'spliced', 'unspliced'"
      ]
     },
     "execution_count": 3,
     "metadata": {},
     "output_type": "execute_result"
    }
   ],
   "source": [
    "adata0"
   ]
  },
  {
   "cell_type": "code",
   "execution_count": 4,
   "metadata": {},
   "outputs": [],
   "source": [
    "def process_splicing(adata0, reference_name):\n",
    "    \"\"\"\n",
    "    load the labelling data, subset splicing data to same cells and genes,\n",
    "    \"\"\"\n",
    "    assert 'spliced' in adata0.layers.keys(), 'this data has no splicing information'\n",
    "\n",
    "    ref = sc.read_h5ad(f'../data/benchmarking_data/{reference_name}.h5ad')\n",
    "    \n",
    "    adata = adata0[ref.obs_names, ref.var_names].copy()\n",
    "    adata.obs = ref.obs\n",
    "    adata.var = ref.var\n",
    "    \n",
    "    # this ensures we can map velocity to same space as benchmark data:\n",
    "    adata.layers['total'] = ref.layers['total'].copy()\n",
    "    adata.obsm['X_pca'] = ref.obsm['X_pca'].copy()\n",
    "    adata.obsm['velocity_cr_pca'] = ref.obsm['velocity_cr_pca']\n",
    "    if 'maxi' not in reference_name:\n",
    "        adata.obsm['velocity_pst'] = ref.obsm['velocity_pst']\n",
    "    \n",
    "    \n",
    "    sc.pp.normalize_total(adata, layers=['spliced'], target_sum=None)\n",
    "    sc.pp.normalize_total(adata, layers=['unspliced'], target_sum=None)\n",
    "    \n",
    "    adata.write_h5ad(f'../data/benchmarking_data/splicing_{reference_name}.h5ad')\n",
    "    "
   ]
  },
  {
   "cell_type": "code",
   "execution_count": 5,
   "metadata": {},
   "outputs": [
    {
     "name": "stdout",
     "output_type": "stream",
     "text": [
      "processing mini_V3...\n",
      "\n",
      "processing mini_MN...\n",
      "\n",
      "processing mini_MD...\n",
      "\n",
      "processing midi_NM...\n",
      "\n",
      "processing midi_Ne...\n",
      "\n",
      "processing maxi...\n",
      "\n"
     ]
    }
   ],
   "source": [
    "dataset = ['mini_V3', 'mini_MN', 'mini_MD',\n",
    "           'midi_NM', 'midi_Ne', 'maxi']\n",
    "\n",
    "for ds in dataset:\n",
    "    print(f'processing {ds}...')\n",
    "    process_splicing(adata0, ds)\n",
    "    print()"
   ]
  },
  {
   "cell_type": "code",
   "execution_count": 6,
   "metadata": {},
   "outputs": [
    {
     "name": "stdout",
     "output_type": "stream",
     "text": [
      "all done!\n"
     ]
    }
   ],
   "source": [
    "print('all done!')"
   ]
  },
  {
   "cell_type": "code",
   "execution_count": null,
   "metadata": {},
   "outputs": [],
   "source": []
  },
  {
   "cell_type": "code",
   "execution_count": null,
   "metadata": {},
   "outputs": [],
   "source": []
  }
 ],
 "metadata": {
  "kernelspec": {
   "display_name": "velvet_dev",
   "language": "python",
   "name": "velvet_dev"
  },
  "language_info": {
   "codemirror_mode": {
    "name": "ipython",
    "version": 3
   },
   "file_extension": ".py",
   "mimetype": "text/x-python",
   "name": "python",
   "nbconvert_exporter": "python",
   "pygments_lexer": "ipython3",
   "version": "3.8.13"
  }
 },
 "nbformat": 4,
 "nbformat_minor": 2
}
