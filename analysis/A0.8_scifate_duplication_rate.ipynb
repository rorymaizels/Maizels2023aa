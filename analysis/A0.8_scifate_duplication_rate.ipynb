{
 "cells": [
  {
   "cell_type": "code",
   "execution_count": 18,
   "id": "fe78b6ec",
   "metadata": {},
   "outputs": [],
   "source": [
    "import pandas as pd\n",
    "import numpy as np\n",
    "import matplotlib.pyplot as plt"
   ]
  },
  {
   "cell_type": "markdown",
   "id": "cd517204",
   "metadata": {},
   "source": [
    "# sci-FATE pilot\n",
    "\n",
    "duplication rate with 300m reads"
   ]
  },
  {
   "cell_type": "code",
   "execution_count": 19,
   "id": "7e4661fe",
   "metadata": {},
   "outputs": [],
   "source": [
    "txt1 = '/camp/lab/briscoej/data/STPs/babs/inputs/rory.maizels/asf/PM20195/211019_K00102_0603_AHLV2YBBXY/multiqc/multiqc_data/mqc_fastqc_sequence_counts_plot_1.txt'"
   ]
  },
  {
   "cell_type": "code",
   "execution_count": 20,
   "id": "85b0cf7d",
   "metadata": {},
   "outputs": [],
   "source": [
    "df1 = pd.read_csv(txt1, sep='\\t')"
   ]
  },
  {
   "cell_type": "code",
   "execution_count": 55,
   "id": "f37e2465",
   "metadata": {},
   "outputs": [],
   "source": [
    "keep = [d for d in df.Sample if 'R2' in d]\n",
    "\n",
    "df1_sub = df1[df1['Sample'].isin(keep)]"
   ]
  },
  {
   "cell_type": "code",
   "execution_count": 56,
   "id": "ee1eaf3a",
   "metadata": {},
   "outputs": [],
   "source": [
    "s1_dups = df1_sub['Duplicate Reads'] / (df1_sub['Unique Reads'] + df1_sub['Duplicate Reads'])"
   ]
  },
  {
   "cell_type": "code",
   "execution_count": 57,
   "id": "61e06e8b",
   "metadata": {},
   "outputs": [
    {
     "data": {
      "text/plain": [
       "0.809029136427447"
      ]
     },
     "execution_count": 57,
     "metadata": {},
     "output_type": "execute_result"
    }
   ],
   "source": [
    "np.mean(s1_dups)"
   ]
  },
  {
   "cell_type": "markdown",
   "id": "a3f5aec8",
   "metadata": {},
   "source": [
    "# sci-FATE2 \n",
    "\n",
    "duplication rate with 700m reads"
   ]
  },
  {
   "cell_type": "code",
   "execution_count": 59,
   "id": "27522212",
   "metadata": {},
   "outputs": [],
   "source": [
    "txt21 = '/camp/lab/briscoej/data/STPs/babs/inputs/rory.maizels/asf/PM22232/220802_A01366_0250_BHCYVNDRX2/multiqc/multiqc_data/mqc_fastqc_sequence_counts_plot_1.txt'\n",
    "txt22 = '/camp/lab/briscoej/data/STPs/babs/inputs/rory.maizels/asf/PM22232/220815_A01366_0262_BHCMYJDRX2/multiqc/multiqc_data/mqc_fastqc_sequence_counts_plot_1.txt'\n",
    "txt23 = '/camp/lab/briscoej/data/STPs/babs/inputs/rory.maizels/asf/PM22232/220906_A01366_0273_BHCMHLDRX2/multiqc/multiqc_data/mqc_fastqc_sequence_counts_plot_1.txt'\n",
    "txt24 = '/camp/lab/briscoej/data/STPs/babs/inputs/rory.maizels/asf/PM22232/221018_A01366_0299_AHLFV5DRX2/multiqc/multiqc_data/mqc_fastqc_sequence_counts_plot_1.txt'\n",
    "txt25 = '/camp/lab/briscoej/data/STPs/babs/inputs/rory.maizels/asf/PM22232/221111_A01366_0316_BHLF2HDRX2/multiqc/multiqc_data/mqc_fastqc_sequence_counts_plot_1.txt'\n",
    "\n"
   ]
  },
  {
   "cell_type": "code",
   "execution_count": 67,
   "id": "9b3075af",
   "metadata": {},
   "outputs": [],
   "source": [
    "rez = []\n",
    "for txt in (txt21, txt22, txt23, txt24, txt25):\n",
    "    df = pd.read_csv(txt, sep='\\t')\n",
    "    keep = [d for d in df.Sample if 'R2' in d]\n",
    "    df_sub = df[df['Sample'].isin(keep)]\n",
    "    s1_dups = df_sub['Duplicate Reads'] / (df_sub['Unique Reads'] + df_sub['Duplicate Reads'])\n",
    "    rez.append(np.mean(s1_dups))"
   ]
  },
  {
   "cell_type": "code",
   "execution_count": 68,
   "id": "e5f0e865",
   "metadata": {},
   "outputs": [
    {
     "data": {
      "text/plain": [
       "0.6433091142934506"
      ]
     },
     "execution_count": 68,
     "metadata": {},
     "output_type": "execute_result"
    }
   ],
   "source": [
    "np.mean(rez)"
   ]
  },
  {
   "cell_type": "code",
   "execution_count": null,
   "id": "ff9d466c",
   "metadata": {},
   "outputs": [],
   "source": []
  },
  {
   "cell_type": "code",
   "execution_count": null,
   "id": "c4d44184",
   "metadata": {},
   "outputs": [],
   "source": []
  }
 ],
 "metadata": {
  "kernelspec": {
   "display_name": "velvet_env1",
   "language": "python",
   "name": "velvet_env1"
  },
  "language_info": {
   "codemirror_mode": {
    "name": "ipython",
    "version": 3
   },
   "file_extension": ".py",
   "mimetype": "text/x-python",
   "name": "python",
   "nbconvert_exporter": "python",
   "pygments_lexer": "ipython3",
   "version": "3.10.11"
  }
 },
 "nbformat": 4,
 "nbformat_minor": 5
}
