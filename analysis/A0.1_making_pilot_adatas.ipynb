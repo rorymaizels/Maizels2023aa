{
 "cells": [
  {
   "cell_type": "code",
   "execution_count": 1,
   "id": "7c211b60",
   "metadata": {},
   "outputs": [
    {
     "name": "stderr",
     "output_type": "stream",
     "text": [
      "Global seed set to 0\n",
      "/camp/home/maizelr/.local/lib/python3.10/site-packages/pytorch_lightning/utilities/warnings.py:53: LightningDeprecationWarning: pytorch_lightning.utilities.warnings.rank_zero_deprecation has been deprecated in v1.6 and will be removed in v1.8. Use the equivalent function from the pytorch_lightning.utilities.rank_zero module instead.\n",
      "  new_rank_zero_deprecation(\n",
      "/camp/home/maizelr/.local/lib/python3.10/site-packages/pytorch_lightning/utilities/warnings.py:58: LightningDeprecationWarning: The `pytorch_lightning.loggers.base.rank_zero_experiment` is deprecated in v1.7 and will be removed in v1.9. Please use `pytorch_lightning.loggers.logger.rank_zero_experiment` instead.\n",
      "  return new_rank_zero_deprecation(*args, **kwargs)\n"
     ]
    }
   ],
   "source": [
    "import velvet as vt\n",
    "\n",
    "# general packages\n",
    "import numpy as np\n",
    "import pandas as pd\n",
    "import torch\n",
    "from scipy.sparse import issparse\n",
    "\n",
    "# velocity packages\n",
    "import scanpy as sc\n",
    "import scvelo as scv\n",
    "import anndata as ann\n",
    "\n",
    "# plotting packages\n",
    "from sklearn.decomposition import PCA\n",
    "import matplotlib.pyplot as plt\n",
    "import seaborn as sns\n",
    "from tqdm import tqdm, trange\n",
    "from IPython.display import clear_output\n",
    "\n",
    "# color palette object\n",
    "from colors import colorpalette"
   ]
  },
  {
   "cell_type": "code",
   "execution_count": 2,
   "id": "b9927257",
   "metadata": {},
   "outputs": [],
   "source": [
    "# script specific imports\n",
    "import warnings\n",
    "warnings.simplefilter(action='ignore', category=FutureWarning)\n",
    "import os"
   ]
  },
  {
   "cell_type": "markdown",
   "id": "6f9291d1",
   "metadata": {},
   "source": [
    "### 1. sci-FATE comparison pilot"
   ]
  },
  {
   "cell_type": "code",
   "execution_count": 3,
   "id": "82200df6",
   "metadata": {},
   "outputs": [],
   "source": [
    "EXPERIMENT_ID = 'SCIFATE_PILOT_4'\n",
    "EXCEL = 'PM20196.xlsx'\n",
    "\n",
    "home='/camp/lab/briscoej/working/Rory/transcriptomics/sciFATE_data/pilots/FATE_PILOT3'\n",
    "\n",
    "xl = pd.read_excel(f'{home}/metadata/{EXCEL}', header=1)\n",
    "\n",
    "xl = xl[xl['Submitted Pool ID']==EXPERIMENT_ID]\n",
    "\n",
    "pcr = xl[xl.columns[:2]].reset_index(drop=True)\n",
    "\n",
    "pcr = pcr.sort_values('Sample Name')\n",
    "\n",
    "treatments = [val for sublist in [[a]*96 for a in ['old','qia','zym','pub']] for val in sublist]"
   ]
  },
  {
   "cell_type": "code",
   "execution_count": 4,
   "id": "9f2ad19c",
   "metadata": {},
   "outputs": [
    {
     "name": "stdout",
     "output_type": "stream",
     "text": [
      "CPU times: user 54.2 s, sys: 7.3 s, total: 1min 1s\n",
      "Wall time: 2min 12s\n"
     ]
    }
   ],
   "source": [
    "%%time\n",
    "low_cutoff = 1000\n",
    "ccs = ['NT','IO','DI','FT']\n",
    "adatas = []\n",
    "\n",
    "for cc in ccs:\n",
    "    for sample, treatment in tqdm(zip(pcr['Sample limsid'].values, treatments)):\n",
    "            for folder in [f'{cc}_old',f'{cc}_qia',f'{cc}_zym',f'{cc}_pub']:\n",
    "                l = os.listdir(home+f'/data_130/{folder}')\n",
    "                if sample in l:\n",
    "                    try:\n",
    "                        path=home+f'/data_130/{folder}/{sample}/count/adata.h5ad'\n",
    "                        adata = sc.read_h5ad(path)\n",
    "                        adata.obs['protocol'] = treatment\n",
    "                        adata.obs['treatment'] = cc                        \n",
    "                        adata = adata[adata.layers['total'].sum(1)>low_cutoff]\n",
    "                        adatas.append(adata)\n",
    "                    except FileNotFoundError:\n",
    "                        pass\n",
    "    clear_output(wait=True)"
   ]
  },
  {
   "cell_type": "code",
   "execution_count": 5,
   "id": "1287185c",
   "metadata": {},
   "outputs": [],
   "source": [
    "adata = ann.concat(\n",
    "    adatas, \n",
    "    join='outer', \n",
    "    fill_value=0, \n",
    "    axis=0\n",
    ")"
   ]
  },
  {
   "cell_type": "code",
   "execution_count": 6,
   "id": "c296d691",
   "metadata": {},
   "outputs": [],
   "source": [
    "adata.write_h5ad('../data/pilot_protocol_comparison.h5ad')"
   ]
  },
  {
   "cell_type": "markdown",
   "id": "7995d886",
   "metadata": {},
   "source": [
    "### 2. Initial sci-FATE protocol pilot"
   ]
  },
  {
   "cell_type": "code",
   "execution_count": 7,
   "id": "cebd2bf2",
   "metadata": {},
   "outputs": [],
   "source": [
    "def aggregate_adatas(\n",
    "    home, \n",
    "    pos_pattern='MAI',\n",
    "    neg_pattern='tmp',\n",
    "    method='count'):\n",
    "    from tqdm import tqdm\n",
    "    samples = [f for f in os.listdir(home) if pos_pattern in f]\n",
    "    samples = [f for f in samples if neg_pattern not in f]\n",
    "    adata_list = []\n",
    "    for sample in tqdm(samples):\n",
    "        try:\n",
    "            adata = sc.read_h5ad(home+sample+f'/{method}/adata.h5ad')\n",
    "            adata.obs.index = ['_'.join((sample,a)) for a in adata.obs.index]\n",
    "            adata.obs['sample'] = sample\n",
    "            adata.var['ID'] = adata.var.index\n",
    "            adata.var = adata.var.set_index('gene_name')\n",
    "            try:\n",
    "                adata = adata[:,[a!='' for a in adata.var_names]]\n",
    "            except KeyError:\n",
    "                pass\n",
    "            adata.var.index = adata.var.index.astype(\"string\")\n",
    "            adata_list.append(adata)\n",
    "            clear_output(wait=True)\n",
    "        except FileNotFoundError:\n",
    "            print(f\"{sample} not found.\")\n",
    "    return adata_list\n",
    "\n",
    "def fix_adata(ad):\n",
    "    warnings.simplefilter(action='ignore', category=UserWarning)\n",
    "\n",
    "    coldict = {}\n",
    "    for col in ad.obs.columns:\n",
    "        coldict[col] = [a for a in ad.obs[col]]\n",
    "    new_obs = pd.DataFrame(coldict, index=list(ad.obs.index.values))\n",
    "\n",
    "    coldict = {}\n",
    "    for col in ad.var.columns:\n",
    "        coldict[col] = [a for a in ad.var[col]]\n",
    "    new_var = pd.DataFrame(coldict, index=list(ad.var.index.values))\n",
    "\n",
    "    ad = ann.AnnData(X=ad.layers['total'].copy(),\n",
    "                         obs=new_obs,\n",
    "                         var=new_var)\n",
    "    \n",
    "    ad.var_names_make_unique()\n",
    "    ad.obs_names_make_unique()\n",
    "    ad.strings_to_categoricals()\n",
    "    return ad"
   ]
  },
  {
   "cell_type": "code",
   "execution_count": 8,
   "id": "9becab9b",
   "metadata": {},
   "outputs": [],
   "source": [
    "home='/camp/lab/briscoej/working/Rory/transcriptomics/sciFATE_data/pilots/SCI_PILOT1/data/all/'"
   ]
  },
  {
   "cell_type": "code",
   "execution_count": 9,
   "id": "572b2581",
   "metadata": {},
   "outputs": [
    {
     "name": "stderr",
     "output_type": "stream",
     "text": [
      "100%|██████████| 384/384 [00:46<00:00,  8.26it/s]\n"
     ]
    }
   ],
   "source": [
    "adata = aggregate_adatas(home)"
   ]
  },
  {
   "cell_type": "code",
   "execution_count": 10,
   "id": "d473585a",
   "metadata": {},
   "outputs": [],
   "source": [
    "adatas = [fix_adata(ad) for ad in adata]"
   ]
  },
  {
   "cell_type": "code",
   "execution_count": 11,
   "id": "32292b03",
   "metadata": {},
   "outputs": [],
   "source": [
    "total_adata = ann.concat(adatas, join='outer', fill_value=0, axis=0)\n",
    "total_adata = total_adata[total_adata.X.sum(1)>500]"
   ]
  },
  {
   "cell_type": "code",
   "execution_count": 12,
   "id": "a92f207f",
   "metadata": {},
   "outputs": [],
   "source": [
    "total_adata.write_h5ad('../data/pilot_original_test.h5ad')"
   ]
  },
  {
   "cell_type": "code",
   "execution_count": null,
   "id": "8f812cd1",
   "metadata": {},
   "outputs": [],
   "source": []
  },
  {
   "cell_type": "code",
   "execution_count": null,
   "id": "bfd2fd11",
   "metadata": {},
   "outputs": [],
   "source": []
  }
 ],
 "metadata": {
  "kernelspec": {
   "display_name": "velvet_env1",
   "language": "python",
   "name": "velvet_env1"
  },
  "language_info": {
   "codemirror_mode": {
    "name": "ipython",
    "version": 3
   },
   "file_extension": ".py",
   "mimetype": "text/x-python",
   "name": "python",
   "nbconvert_exporter": "python",
   "pygments_lexer": "ipython3",
   "version": "3.10.11"
  }
 },
 "nbformat": 4,
 "nbformat_minor": 5
}
