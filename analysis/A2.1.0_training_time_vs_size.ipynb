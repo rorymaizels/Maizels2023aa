{
 "cells": [
  {
   "cell_type": "code",
   "execution_count": 1,
   "id": "8dca1028",
   "metadata": {},
   "outputs": [
    {
     "name": "stderr",
     "output_type": "stream",
     "text": [
      "Global seed set to 0\n",
      "/camp/home/maizelr/.local/lib/python3.10/site-packages/pytorch_lightning/utilities/warnings.py:53: LightningDeprecationWarning: pytorch_lightning.utilities.warnings.rank_zero_deprecation has been deprecated in v1.6 and will be removed in v1.8. Use the equivalent function from the pytorch_lightning.utilities.rank_zero module instead.\n",
      "  new_rank_zero_deprecation(\n",
      "/camp/home/maizelr/.local/lib/python3.10/site-packages/pytorch_lightning/utilities/warnings.py:58: LightningDeprecationWarning: The `pytorch_lightning.loggers.base.rank_zero_experiment` is deprecated in v1.7 and will be removed in v1.9. Please use `pytorch_lightning.loggers.logger.rank_zero_experiment` instead.\n",
      "  return new_rank_zero_deprecation(*args, **kwargs)\n"
     ]
    }
   ],
   "source": [
    "import velvetvae as vt\n",
    "\n",
    "# general packages\n",
    "import numpy as np\n",
    "import pandas as pd\n",
    "import torch\n",
    "from scipy.sparse import issparse\n",
    "\n",
    "# velocity packages\n",
    "import scanpy as sc\n",
    "import scvelo as scv\n",
    "import anndata as ann\n",
    "\n",
    "# plotting packages\n",
    "from sklearn.decomposition import PCA\n",
    "import matplotlib.pyplot as plt\n",
    "import seaborn as sns\n",
    "from tqdm import tqdm, trange\n",
    "from IPython.display import clear_output\n",
    "\n",
    "# color palette object\n",
    "from colors import colorpalette as colpal"
   ]
  },
  {
   "cell_type": "code",
   "execution_count": 2,
   "id": "3dd8a1d7",
   "metadata": {},
   "outputs": [],
   "source": [
    "import time"
   ]
  },
  {
   "cell_type": "code",
   "execution_count": 3,
   "id": "81d7b0f9",
   "metadata": {},
   "outputs": [
    {
     "data": {
      "text/plain": [
       "View of AnnData object with n_obs × n_vars = 44713 × 24967\n",
       "    obs: 'X_TC_alpha', 'total_TC_alpha', 'unspliced_TC_alpha', 'spliced_TC_alpha', 'p_e', 'p_c_TC', 'sample', 'timepoint', 'rep', 'n_genes_by_counts', 'total_counts', 'total_counts_mt', 'pct_counts_mt', 'label_rate', 'doublet_score', 'marker_based_classification', 'cell_annotation'\n",
       "    layers: 'new', 'old', 'total'"
      ]
     },
     "execution_count": 3,
     "metadata": {},
     "output_type": "execute_result"
    }
   ],
   "source": [
    "adata0 = vt.pp.read(\"../data/celltyped_adata.h5ad\")\n",
    "adata0 = adata0[adata0.obs.cell_annotation!='other']\n",
    "\n",
    "adata0"
   ]
  },
  {
   "cell_type": "code",
   "execution_count": 4,
   "id": "0e311081",
   "metadata": {},
   "outputs": [],
   "source": [
    "neural_types = ['Early_Neural','Neural','pMN','p3','FP','MN','V3']\n",
    "\n",
    "neural = adata0[[ct in neural_types for ct in adata0.obs.cell_annotation]]\n",
    "\n",
    "neural_genes = vt.pp.select_genes(\n",
    "    neural[neural.obs.rep!='r4'], \n",
    "    n_variable_genes=3000, \n",
    "    stratify_obs='rep')"
   ]
  },
  {
   "cell_type": "code",
   "execution_count": 5,
   "id": "1dcf51e0",
   "metadata": {},
   "outputs": [],
   "source": [
    "neural = vt.pp.size_normalize(\n",
    "    neural, \n",
    "    genes=neural_genes, \n",
    "    total_layer='total', \n",
    "    new_layer='new',\n",
    "    unsparsify=True\n",
    ")"
   ]
  },
  {
   "cell_type": "code",
   "execution_count": 47,
   "id": "8789c02d",
   "metadata": {},
   "outputs": [
    {
     "name": "stderr",
     "output_type": "stream",
     "text": [
      "\r",
      "  0%|          | 0/11 [00:00<?, ?it/s]"
     ]
    },
    {
     "name": "stdout",
     "output_type": "stream",
     "text": [
      "Using ScanPy methods to calculate distances, indices, connectivities, transitions, ... done! \n",
      "KNN indices for Velvet stored in .obsm['knn_index'].\n",
      "Dense similarity transition matrix for Velvet stored in .obsm['Ts'].\n",
      "\u001b[34mINFO    \u001b[0m Generating sequential column names                                                                        \n"
     ]
    },
    {
     "name": "stderr",
     "output_type": "stream",
     "text": [
      "bypassing sigterm\n",
      "bypassing sigterm\n",
      "bypassing sigterm\n",
      "Multiprocessing is handled by SLURM.\n",
      "bypassing sigterm\n",
      "GPU available: True (cuda), used: True\n",
      "TPU available: False, using: 0 TPU cores\n",
      "IPU available: False, using: 0 IPUs\n",
      "HPU available: False, using: 0 HPUs\n",
      "bypassing sigterm\n",
      "bypassing sigterm\n",
      "LOCAL_RANK: 0 - CUDA_VISIBLE_DEVICES: [0]\n",
      "SLURM auto-requeueing enabled. Setting signal handlers.\n"
     ]
    },
    {
     "name": "stdout",
     "output_type": "stream",
     "text": [
      "Epoch 50/50: 100%|██████████| 50/50 [00:01<00:00, 42.53it/s, loss=2.06e+03, v_num=1]"
     ]
    },
    {
     "name": "stderr",
     "output_type": "stream",
     "text": [
      "`Trainer.fit` stopped: `max_epochs=50` reached.\n"
     ]
    },
    {
     "name": "stdout",
     "output_type": "stream",
     "text": [
      "Epoch 50/50: 100%|██████████| 50/50 [00:01<00:00, 41.62it/s, loss=2.06e+03, v_num=1]\n"
     ]
    },
    {
     "name": "stderr",
     "output_type": "stream",
     "text": [
      "\r",
      "  9%|▉         | 1/11 [00:02<00:28,  2.82s/it]"
     ]
    },
    {
     "name": "stdout",
     "output_type": "stream",
     "text": [
      "Using ScanPy methods to calculate distances, indices, connectivities, transitions, ... done! \n",
      "KNN indices for Velvet stored in .obsm['knn_index'].\n",
      "Dense similarity transition matrix for Velvet stored in .obsm['Ts'].\n",
      "\u001b[34mINFO    \u001b[0m Generating sequential column names                                                                        \n"
     ]
    },
    {
     "name": "stderr",
     "output_type": "stream",
     "text": [
      "bypassing sigterm\n",
      "bypassing sigterm\n",
      "bypassing sigterm\n",
      "Multiprocessing is handled by SLURM.\n",
      "bypassing sigterm\n",
      "GPU available: True (cuda), used: True\n",
      "TPU available: False, using: 0 TPU cores\n",
      "IPU available: False, using: 0 IPUs\n",
      "HPU available: False, using: 0 HPUs\n",
      "bypassing sigterm\n",
      "bypassing sigterm\n",
      "LOCAL_RANK: 0 - CUDA_VISIBLE_DEVICES: [0]\n",
      "SLURM auto-requeueing enabled. Setting signal handlers.\n"
     ]
    },
    {
     "name": "stdout",
     "output_type": "stream",
     "text": [
      "Epoch 50/50: 100%|██████████| 50/50 [00:03<00:00, 13.29it/s, loss=2.07e+03, v_num=1]"
     ]
    },
    {
     "name": "stderr",
     "output_type": "stream",
     "text": [
      "`Trainer.fit` stopped: `max_epochs=50` reached.\n"
     ]
    },
    {
     "name": "stdout",
     "output_type": "stream",
     "text": [
      "\r",
      "Epoch 50/50: 100%|██████████| 50/50 [00:03<00:00, 13.25it/s, loss=2.07e+03, v_num=1]"
     ]
    },
    {
     "name": "stderr",
     "output_type": "stream",
     "text": [
      "\r",
      " 18%|█▊        | 2/11 [00:09<00:46,  5.19s/it]"
     ]
    },
    {
     "name": "stdout",
     "output_type": "stream",
     "text": [
      "\n",
      "Using ScanPy methods to calculate distances, indices, connectivities, transitions, ... done! \n",
      "KNN indices for Velvet stored in .obsm['knn_index'].\n",
      "Dense similarity transition matrix for Velvet stored in .obsm['Ts'].\n",
      "\u001b[34mINFO    \u001b[0m Generating sequential column names                                                                        \n"
     ]
    },
    {
     "name": "stderr",
     "output_type": "stream",
     "text": [
      "bypassing sigterm\n",
      "bypassing sigterm\n",
      "bypassing sigterm\n",
      "Multiprocessing is handled by SLURM.\n",
      "bypassing sigterm\n",
      "GPU available: True (cuda), used: True\n",
      "TPU available: False, using: 0 TPU cores\n",
      "IPU available: False, using: 0 IPUs\n",
      "HPU available: False, using: 0 HPUs\n",
      "bypassing sigterm\n",
      "bypassing sigterm\n",
      "LOCAL_RANK: 0 - CUDA_VISIBLE_DEVICES: [0]\n",
      "SLURM auto-requeueing enabled. Setting signal handlers.\n"
     ]
    },
    {
     "name": "stdout",
     "output_type": "stream",
     "text": [
      "Epoch 50/50: 100%|██████████| 50/50 [00:06<00:00,  7.05it/s, loss=2.07e+03, v_num=1]"
     ]
    },
    {
     "name": "stderr",
     "output_type": "stream",
     "text": [
      "`Trainer.fit` stopped: `max_epochs=50` reached.\n"
     ]
    },
    {
     "name": "stdout",
     "output_type": "stream",
     "text": [
      "\r",
      "Epoch 50/50: 100%|██████████| 50/50 [00:06<00:00,  7.20it/s, loss=2.07e+03, v_num=1]"
     ]
    },
    {
     "name": "stderr",
     "output_type": "stream",
     "text": [
      "\r",
      " 27%|██▋       | 3/11 [00:22<01:10,  8.83s/it]"
     ]
    },
    {
     "name": "stdout",
     "output_type": "stream",
     "text": [
      "\n",
      "Using ScanPy methods to calculate distances, indices, connectivities, transitions, ... done! \n",
      "KNN indices for Velvet stored in .obsm['knn_index'].\n",
      "Dense similarity transition matrix for Velvet stored in .obsm['Ts'].\n",
      "\u001b[34mINFO    \u001b[0m Generating sequential column names                                                                        \n"
     ]
    },
    {
     "name": "stderr",
     "output_type": "stream",
     "text": [
      "bypassing sigterm\n",
      "bypassing sigterm\n",
      "bypassing sigterm\n",
      "Multiprocessing is handled by SLURM.\n",
      "bypassing sigterm\n",
      "GPU available: True (cuda), used: True\n",
      "TPU available: False, using: 0 TPU cores\n",
      "IPU available: False, using: 0 IPUs\n",
      "HPU available: False, using: 0 HPUs\n",
      "bypassing sigterm\n",
      "bypassing sigterm\n",
      "LOCAL_RANK: 0 - CUDA_VISIBLE_DEVICES: [0]\n",
      "SLURM auto-requeueing enabled. Setting signal handlers.\n"
     ]
    },
    {
     "name": "stdout",
     "output_type": "stream",
     "text": [
      "Epoch 50/50: 100%|██████████| 50/50 [00:09<00:00,  4.65it/s, loss=2.07e+03, v_num=1]"
     ]
    },
    {
     "name": "stderr",
     "output_type": "stream",
     "text": [
      "`Trainer.fit` stopped: `max_epochs=50` reached.\n"
     ]
    },
    {
     "name": "stdout",
     "output_type": "stream",
     "text": [
      "\r",
      "Epoch 50/50: 100%|██████████| 50/50 [00:09<00:00,  5.09it/s, loss=2.07e+03, v_num=1]"
     ]
    },
    {
     "name": "stderr",
     "output_type": "stream",
     "text": [
      "\r",
      " 36%|███▋      | 4/11 [00:43<01:35, 13.61s/it]"
     ]
    },
    {
     "name": "stdout",
     "output_type": "stream",
     "text": [
      "\n",
      "Using ScanPy methods to calculate distances, indices, connectivities, transitions, ... done! \n",
      "KNN indices for Velvet stored in .obsm['knn_index'].\n",
      "Dense similarity transition matrix for Velvet stored in .obsm['Ts'].\n",
      "\u001b[34mINFO    \u001b[0m Generating sequential column names                                                                        \n"
     ]
    },
    {
     "name": "stderr",
     "output_type": "stream",
     "text": [
      "bypassing sigterm\n",
      "bypassing sigterm\n",
      "bypassing sigterm\n",
      "Multiprocessing is handled by SLURM.\n",
      "bypassing sigterm\n",
      "GPU available: True (cuda), used: True\n",
      "TPU available: False, using: 0 TPU cores\n",
      "IPU available: False, using: 0 IPUs\n",
      "HPU available: False, using: 0 HPUs\n",
      "bypassing sigterm\n",
      "bypassing sigterm\n",
      "LOCAL_RANK: 0 - CUDA_VISIBLE_DEVICES: [0]\n",
      "SLURM auto-requeueing enabled. Setting signal handlers.\n"
     ]
    },
    {
     "name": "stdout",
     "output_type": "stream",
     "text": [
      "Epoch 50/50: 100%|██████████| 50/50 [00:13<00:00,  3.64it/s, loss=2.07e+03, v_num=1]"
     ]
    },
    {
     "name": "stderr",
     "output_type": "stream",
     "text": [
      "`Trainer.fit` stopped: `max_epochs=50` reached.\n"
     ]
    },
    {
     "name": "stdout",
     "output_type": "stream",
     "text": [
      "\r",
      "Epoch 50/50: 100%|██████████| 50/50 [00:13<00:00,  3.77it/s, loss=2.07e+03, v_num=1]"
     ]
    },
    {
     "name": "stderr",
     "output_type": "stream",
     "text": [
      "\r",
      " 45%|████▌     | 5/11 [01:15<02:00, 20.01s/it]"
     ]
    },
    {
     "name": "stdout",
     "output_type": "stream",
     "text": [
      "\n",
      "Using ScanPy methods to calculate distances, indices, connectivities, transitions, ... done! \n",
      "KNN indices for Velvet stored in .obsm['knn_index'].\n",
      "Dense similarity transition matrix for Velvet stored in .obsm['Ts'].\n",
      "\u001b[34mINFO    \u001b[0m Generating sequential column names                                                                        \n"
     ]
    },
    {
     "name": "stderr",
     "output_type": "stream",
     "text": [
      "bypassing sigterm\n",
      "bypassing sigterm\n",
      "bypassing sigterm\n",
      "Multiprocessing is handled by SLURM.\n",
      "bypassing sigterm\n",
      "GPU available: True (cuda), used: True\n",
      "TPU available: False, using: 0 TPU cores\n",
      "IPU available: False, using: 0 IPUs\n",
      "HPU available: False, using: 0 HPUs\n",
      "bypassing sigterm\n",
      "bypassing sigterm\n",
      "LOCAL_RANK: 0 - CUDA_VISIBLE_DEVICES: [0]\n",
      "SLURM auto-requeueing enabled. Setting signal handlers.\n"
     ]
    },
    {
     "name": "stdout",
     "output_type": "stream",
     "text": [
      "Epoch 50/50: 100%|██████████| 50/50 [00:16<00:00,  3.04it/s, loss=2.07e+03, v_num=1]"
     ]
    },
    {
     "name": "stderr",
     "output_type": "stream",
     "text": [
      "`Trainer.fit` stopped: `max_epochs=50` reached.\n"
     ]
    },
    {
     "name": "stdout",
     "output_type": "stream",
     "text": [
      "\r",
      "Epoch 50/50: 100%|██████████| 50/50 [00:16<00:00,  3.06it/s, loss=2.07e+03, v_num=1]"
     ]
    },
    {
     "name": "stderr",
     "output_type": "stream",
     "text": [
      "\r",
      " 55%|█████▍    | 6/11 [01:56<02:17, 27.44s/it]"
     ]
    },
    {
     "name": "stdout",
     "output_type": "stream",
     "text": [
      "\n",
      "Using ScanPy methods to calculate distances, indices, connectivities, transitions, ... done! \n",
      "KNN indices for Velvet stored in .obsm['knn_index'].\n",
      "Dense similarity transition matrix for Velvet stored in .obsm['Ts'].\n",
      "\u001b[34mINFO    \u001b[0m Generating sequential column names                                                                        \n"
     ]
    },
    {
     "name": "stderr",
     "output_type": "stream",
     "text": [
      "bypassing sigterm\n",
      "bypassing sigterm\n",
      "bypassing sigterm\n",
      "Multiprocessing is handled by SLURM.\n",
      "bypassing sigterm\n",
      "GPU available: True (cuda), used: True\n",
      "TPU available: False, using: 0 TPU cores\n",
      "IPU available: False, using: 0 IPUs\n",
      "HPU available: False, using: 0 HPUs\n",
      "bypassing sigterm\n",
      "bypassing sigterm\n",
      "LOCAL_RANK: 0 - CUDA_VISIBLE_DEVICES: [0]\n",
      "SLURM auto-requeueing enabled. Setting signal handlers.\n"
     ]
    },
    {
     "name": "stdout",
     "output_type": "stream",
     "text": [
      "Epoch 50/50: 100%|██████████| 50/50 [00:18<00:00,  3.20it/s, loss=2.07e+03, v_num=1]"
     ]
    },
    {
     "name": "stderr",
     "output_type": "stream",
     "text": [
      "`Trainer.fit` stopped: `max_epochs=50` reached.\n"
     ]
    },
    {
     "name": "stdout",
     "output_type": "stream",
     "text": [
      "\r",
      "Epoch 50/50: 100%|██████████| 50/50 [00:18<00:00,  2.73it/s, loss=2.07e+03, v_num=1]"
     ]
    },
    {
     "name": "stderr",
     "output_type": "stream",
     "text": [
      "\r",
      " 64%|██████▎   | 7/11 [02:53<02:27, 36.79s/it]"
     ]
    },
    {
     "name": "stdout",
     "output_type": "stream",
     "text": [
      "\n",
      "Using ScanPy methods to calculate distances, indices, connectivities, transitions, ... done! \n",
      "KNN indices for Velvet stored in .obsm['knn_index'].\n",
      "Dense similarity transition matrix for Velvet stored in .obsm['Ts'].\n",
      "\u001b[34mINFO    \u001b[0m Generating sequential column names                                                                        \n"
     ]
    },
    {
     "name": "stderr",
     "output_type": "stream",
     "text": [
      "bypassing sigterm\n",
      "bypassing sigterm\n",
      "bypassing sigterm\n",
      "Multiprocessing is handled by SLURM.\n",
      "bypassing sigterm\n",
      "GPU available: True (cuda), used: True\n",
      "TPU available: False, using: 0 TPU cores\n",
      "IPU available: False, using: 0 IPUs\n",
      "HPU available: False, using: 0 HPUs\n",
      "bypassing sigterm\n",
      "bypassing sigterm\n",
      "LOCAL_RANK: 0 - CUDA_VISIBLE_DEVICES: [0]\n",
      "SLURM auto-requeueing enabled. Setting signal handlers.\n"
     ]
    },
    {
     "name": "stdout",
     "output_type": "stream",
     "text": [
      "Epoch 50/50: 100%|██████████| 50/50 [00:22<00:00,  2.23it/s, loss=2.07e+03, v_num=1]"
     ]
    },
    {
     "name": "stderr",
     "output_type": "stream",
     "text": [
      "`Trainer.fit` stopped: `max_epochs=50` reached.\n"
     ]
    },
    {
     "name": "stdout",
     "output_type": "stream",
     "text": [
      "\r",
      "Epoch 50/50: 100%|██████████| 50/50 [00:22<00:00,  2.27it/s, loss=2.07e+03, v_num=1]"
     ]
    },
    {
     "name": "stderr",
     "output_type": "stream",
     "text": [
      "\r",
      " 73%|███████▎  | 8/11 [03:56<02:15, 45.30s/it]"
     ]
    },
    {
     "name": "stdout",
     "output_type": "stream",
     "text": [
      "\n",
      "Using ScanPy methods to calculate distances, indices, connectivities, transitions, ... done! \n",
      "KNN indices for Velvet stored in .obsm['knn_index'].\n",
      "Dense similarity transition matrix for Velvet stored in .obsm['Ts'].\n",
      "\u001b[34mINFO    \u001b[0m Generating sequential column names                                                                        \n"
     ]
    },
    {
     "name": "stderr",
     "output_type": "stream",
     "text": [
      "bypassing sigterm\n",
      "bypassing sigterm\n",
      "bypassing sigterm\n",
      "Multiprocessing is handled by SLURM.\n",
      "bypassing sigterm\n",
      "GPU available: True (cuda), used: True\n",
      "TPU available: False, using: 0 TPU cores\n",
      "IPU available: False, using: 0 IPUs\n",
      "HPU available: False, using: 0 HPUs\n",
      "bypassing sigterm\n",
      "bypassing sigterm\n",
      "LOCAL_RANK: 0 - CUDA_VISIBLE_DEVICES: [0]\n",
      "SLURM auto-requeueing enabled. Setting signal handlers.\n"
     ]
    },
    {
     "name": "stdout",
     "output_type": "stream",
     "text": [
      "Epoch 50/50: 100%|██████████| 50/50 [00:22<00:00,  2.33it/s, loss=2.07e+03, v_num=1]"
     ]
    },
    {
     "name": "stderr",
     "output_type": "stream",
     "text": [
      "`Trainer.fit` stopped: `max_epochs=50` reached.\n"
     ]
    },
    {
     "name": "stdout",
     "output_type": "stream",
     "text": [
      "\r",
      "Epoch 50/50: 100%|██████████| 50/50 [00:22<00:00,  2.23it/s, loss=2.07e+03, v_num=1]"
     ]
    },
    {
     "name": "stderr",
     "output_type": "stream",
     "text": [
      "\r",
      " 82%|████████▏ | 9/11 [05:18<01:53, 56.76s/it]"
     ]
    },
    {
     "name": "stdout",
     "output_type": "stream",
     "text": [
      "\n",
      "Using ScanPy methods to calculate distances, indices, connectivities, transitions, ... done! \n",
      "KNN indices for Velvet stored in .obsm['knn_index'].\n",
      "Dense similarity transition matrix for Velvet stored in .obsm['Ts'].\n",
      "\u001b[34mINFO    \u001b[0m Generating sequential column names                                                                        \n"
     ]
    },
    {
     "name": "stderr",
     "output_type": "stream",
     "text": [
      "bypassing sigterm\n",
      "bypassing sigterm\n",
      "bypassing sigterm\n",
      "Multiprocessing is handled by SLURM.\n",
      "bypassing sigterm\n",
      "GPU available: True (cuda), used: True\n",
      "TPU available: False, using: 0 TPU cores\n",
      "IPU available: False, using: 0 IPUs\n",
      "HPU available: False, using: 0 HPUs\n",
      "bypassing sigterm\n",
      "LOCAL_RANK: 0 - CUDA_VISIBLE_DEVICES: [0]\n",
      "SLURM auto-requeueing enabled. Setting signal handlers.\n"
     ]
    },
    {
     "name": "stdout",
     "output_type": "stream",
     "text": [
      "Epoch 50/50: 100%|██████████| 50/50 [00:23<00:00,  1.87it/s, loss=2.07e+03, v_num=1]"
     ]
    },
    {
     "name": "stderr",
     "output_type": "stream",
     "text": [
      "`Trainer.fit` stopped: `max_epochs=50` reached.\n"
     ]
    },
    {
     "name": "stdout",
     "output_type": "stream",
     "text": [
      "\r",
      "Epoch 50/50: 100%|██████████| 50/50 [00:23<00:00,  2.17it/s, loss=2.07e+03, v_num=1]"
     ]
    },
    {
     "name": "stderr",
     "output_type": "stream",
     "text": [
      "\r",
      " 91%|█████████ | 10/11 [06:47<01:06, 66.57s/it]"
     ]
    },
    {
     "name": "stdout",
     "output_type": "stream",
     "text": [
      "\n",
      "Using ScanPy methods to calculate distances, indices, connectivities, transitions, ... done! \n",
      "KNN indices for Velvet stored in .obsm['knn_index'].\n",
      "Dense similarity transition matrix for Velvet stored in .obsm['Ts'].\n",
      "\u001b[34mINFO    \u001b[0m Generating sequential column names                                                                        \n"
     ]
    },
    {
     "name": "stderr",
     "output_type": "stream",
     "text": [
      "bypassing sigterm\n",
      "bypassing sigterm\n",
      "bypassing sigterm\n",
      "Multiprocessing is handled by SLURM.\n",
      "GPU available: True (cuda), used: True\n",
      "TPU available: False, using: 0 TPU cores\n",
      "IPU available: False, using: 0 IPUs\n",
      "HPU available: False, using: 0 HPUs\n",
      "bypassing sigterm\n",
      "LOCAL_RANK: 0 - CUDA_VISIBLE_DEVICES: [0]\n",
      "SLURM auto-requeueing enabled. Setting signal handlers.\n"
     ]
    },
    {
     "name": "stdout",
     "output_type": "stream",
     "text": [
      "Epoch 50/50: 100%|██████████| 50/50 [00:30<00:00,  1.49it/s, loss=2.07e+03, v_num=1]"
     ]
    },
    {
     "name": "stderr",
     "output_type": "stream",
     "text": [
      "`Trainer.fit` stopped: `max_epochs=50` reached.\n"
     ]
    },
    {
     "name": "stdout",
     "output_type": "stream",
     "text": [
      "\r",
      "Epoch 50/50: 100%|██████████| 50/50 [00:30<00:00,  1.65it/s, loss=2.07e+03, v_num=1]"
     ]
    },
    {
     "name": "stderr",
     "output_type": "stream",
     "text": [
      "100%|██████████| 11/11 [08:57<00:00, 48.88s/it]\n"
     ]
    },
    {
     "name": "stdout",
     "output_type": "stream",
     "text": [
      "\n"
     ]
    },
    {
     "name": "stderr",
     "output_type": "stream",
     "text": [
      "\r",
      "  0%|          | 0/11 [00:00<?, ?it/s]"
     ]
    },
    {
     "name": "stdout",
     "output_type": "stream",
     "text": [
      "Using ScanPy methods to calculate distances, indices, connectivities, transitions, ... done! \n",
      "KNN indices for Velvet stored in .obsm['knn_index'].\n",
      "Dense similarity transition matrix for Velvet stored in .obsm['Ts'].\n",
      "\u001b[34mINFO    \u001b[0m Generating sequential column names                                                                        \n"
     ]
    },
    {
     "name": "stderr",
     "output_type": "stream",
     "text": [
      "bypassing sigterm\n",
      "bypassing sigterm\n",
      "bypassing sigterm\n",
      "Multiprocessing is handled by SLURM.\n",
      "bypassing sigterm\n",
      "GPU available: True (cuda), used: True\n",
      "TPU available: False, using: 0 TPU cores\n",
      "IPU available: False, using: 0 IPUs\n",
      "HPU available: False, using: 0 HPUs\n",
      "bypassing sigterm\n",
      "LOCAL_RANK: 0 - CUDA_VISIBLE_DEVICES: [0]\n",
      "SLURM auto-requeueing enabled. Setting signal handlers.\n"
     ]
    },
    {
     "name": "stdout",
     "output_type": "stream",
     "text": [
      "Epoch 50/50: 100%|██████████| 50/50 [00:01<00:00, 38.36it/s, loss=2.06e+03, v_num=1]"
     ]
    },
    {
     "name": "stderr",
     "output_type": "stream",
     "text": [
      "`Trainer.fit` stopped: `max_epochs=50` reached.\n"
     ]
    },
    {
     "name": "stdout",
     "output_type": "stream",
     "text": [
      "Epoch 50/50: 100%|██████████| 50/50 [00:01<00:00, 38.92it/s, loss=2.06e+03, v_num=1]\n"
     ]
    },
    {
     "name": "stderr",
     "output_type": "stream",
     "text": [
      "\r",
      "  9%|▉         | 1/11 [00:02<00:25,  2.50s/it]"
     ]
    },
    {
     "name": "stdout",
     "output_type": "stream",
     "text": [
      "Using ScanPy methods to calculate distances, indices, connectivities, transitions, ... done! \n",
      "KNN indices for Velvet stored in .obsm['knn_index'].\n",
      "Dense similarity transition matrix for Velvet stored in .obsm['Ts'].\n",
      "\u001b[34mINFO    \u001b[0m Generating sequential column names                                                                        \n"
     ]
    },
    {
     "name": "stderr",
     "output_type": "stream",
     "text": [
      "bypassing sigterm\n",
      "bypassing sigterm\n",
      "bypassing sigterm\n",
      "Multiprocessing is handled by SLURM.\n",
      "bypassing sigterm\n",
      "GPU available: True (cuda), used: True\n",
      "TPU available: False, using: 0 TPU cores\n",
      "IPU available: False, using: 0 IPUs\n",
      "HPU available: False, using: 0 HPUs\n",
      "bypassing sigterm\n",
      "bypassing sigterm\n",
      "LOCAL_RANK: 0 - CUDA_VISIBLE_DEVICES: [0]\n",
      "SLURM auto-requeueing enabled. Setting signal handlers.\n"
     ]
    },
    {
     "name": "stdout",
     "output_type": "stream",
     "text": [
      "Epoch 50/50: 100%|██████████| 50/50 [00:04<00:00, 12.07it/s, loss=2.07e+03, v_num=1]"
     ]
    },
    {
     "name": "stderr",
     "output_type": "stream",
     "text": [
      "`Trainer.fit` stopped: `max_epochs=50` reached.\n"
     ]
    },
    {
     "name": "stdout",
     "output_type": "stream",
     "text": [
      "\r",
      "Epoch 50/50: 100%|██████████| 50/50 [00:04<00:00, 11.89it/s, loss=2.07e+03, v_num=1]"
     ]
    },
    {
     "name": "stderr",
     "output_type": "stream",
     "text": [
      "\r",
      " 18%|█▊        | 2/11 [00:09<00:48,  5.43s/it]"
     ]
    },
    {
     "name": "stdout",
     "output_type": "stream",
     "text": [
      "\n",
      "Using ScanPy methods to calculate distances, indices, connectivities, transitions, ... done! \n",
      "KNN indices for Velvet stored in .obsm['knn_index'].\n",
      "Dense similarity transition matrix for Velvet stored in .obsm['Ts'].\n",
      "\u001b[34mINFO    \u001b[0m Generating sequential column names                                                                        \n"
     ]
    },
    {
     "name": "stderr",
     "output_type": "stream",
     "text": [
      "bypassing sigterm\n",
      "bypassing sigterm\n",
      "bypassing sigterm\n",
      "Multiprocessing is handled by SLURM.\n",
      "bypassing sigterm\n",
      "GPU available: True (cuda), used: True\n",
      "TPU available: False, using: 0 TPU cores\n",
      "IPU available: False, using: 0 IPUs\n",
      "HPU available: False, using: 0 HPUs\n",
      "bypassing sigterm\n",
      "bypassing sigterm\n",
      "LOCAL_RANK: 0 - CUDA_VISIBLE_DEVICES: [0]\n",
      "SLURM auto-requeueing enabled. Setting signal handlers.\n"
     ]
    },
    {
     "name": "stdout",
     "output_type": "stream",
     "text": [
      "Epoch 50/50: 100%|██████████| 50/50 [00:07<00:00,  7.26it/s, loss=2.07e+03, v_num=1]"
     ]
    },
    {
     "name": "stderr",
     "output_type": "stream",
     "text": [
      "`Trainer.fit` stopped: `max_epochs=50` reached.\n"
     ]
    },
    {
     "name": "stdout",
     "output_type": "stream",
     "text": [
      "\r",
      "Epoch 50/50: 100%|██████████| 50/50 [00:07<00:00,  6.88it/s, loss=2.07e+03, v_num=1]"
     ]
    },
    {
     "name": "stderr",
     "output_type": "stream",
     "text": [
      "\r",
      " 27%|██▋       | 3/11 [00:23<01:14,  9.29s/it]"
     ]
    },
    {
     "name": "stdout",
     "output_type": "stream",
     "text": [
      "\n",
      "Using ScanPy methods to calculate distances, indices, connectivities, transitions, ... done! \n",
      "KNN indices for Velvet stored in .obsm['knn_index'].\n",
      "Dense similarity transition matrix for Velvet stored in .obsm['Ts'].\n",
      "\u001b[34mINFO    \u001b[0m Generating sequential column names                                                                        \n"
     ]
    },
    {
     "name": "stderr",
     "output_type": "stream",
     "text": [
      "bypassing sigterm\n",
      "bypassing sigterm\n",
      "bypassing sigterm\n",
      "Multiprocessing is handled by SLURM.\n",
      "bypassing sigterm\n",
      "GPU available: True (cuda), used: True\n",
      "TPU available: False, using: 0 TPU cores\n",
      "IPU available: False, using: 0 IPUs\n",
      "HPU available: False, using: 0 HPUs\n",
      "bypassing sigterm\n",
      "bypassing sigterm\n",
      "LOCAL_RANK: 0 - CUDA_VISIBLE_DEVICES: [0]\n",
      "SLURM auto-requeueing enabled. Setting signal handlers.\n"
     ]
    },
    {
     "name": "stdout",
     "output_type": "stream",
     "text": [
      "Epoch 50/50: 100%|██████████| 50/50 [00:09<00:00,  5.22it/s, loss=2.07e+03, v_num=1]"
     ]
    },
    {
     "name": "stderr",
     "output_type": "stream",
     "text": [
      "`Trainer.fit` stopped: `max_epochs=50` reached.\n"
     ]
    },
    {
     "name": "stdout",
     "output_type": "stream",
     "text": [
      "Epoch 50/50: 100%|██████████| 50/50 [00:10<00:00,  5.00it/s, loss=2.07e+03, v_num=1]\n"
     ]
    },
    {
     "name": "stderr",
     "output_type": "stream",
     "text": [
      "\r",
      " 36%|███▋      | 4/11 [00:45<01:38, 14.13s/it]"
     ]
    },
    {
     "name": "stdout",
     "output_type": "stream",
     "text": [
      "Using ScanPy methods to calculate distances, indices, connectivities, transitions, ... done! \n",
      "KNN indices for Velvet stored in .obsm['knn_index'].\n",
      "Dense similarity transition matrix for Velvet stored in .obsm['Ts'].\n",
      "\u001b[34mINFO    \u001b[0m Generating sequential column names                                                                        \n"
     ]
    },
    {
     "name": "stderr",
     "output_type": "stream",
     "text": [
      "bypassing sigterm\n",
      "bypassing sigterm\n",
      "bypassing sigterm\n",
      "Multiprocessing is handled by SLURM.\n",
      "bypassing sigterm\n",
      "GPU available: True (cuda), used: True\n",
      "TPU available: False, using: 0 TPU cores\n",
      "IPU available: False, using: 0 IPUs\n",
      "HPU available: False, using: 0 HPUs\n",
      "bypassing sigterm\n",
      "LOCAL_RANK: 0 - CUDA_VISIBLE_DEVICES: [0]\n",
      "SLURM auto-requeueing enabled. Setting signal handlers.\n"
     ]
    },
    {
     "name": "stdout",
     "output_type": "stream",
     "text": [
      "Epoch 50/50: 100%|██████████| 50/50 [00:12<00:00,  3.85it/s, loss=2.07e+03, v_num=1]"
     ]
    },
    {
     "name": "stderr",
     "output_type": "stream",
     "text": [
      "`Trainer.fit` stopped: `max_epochs=50` reached.\n"
     ]
    },
    {
     "name": "stdout",
     "output_type": "stream",
     "text": [
      "\r",
      "Epoch 50/50: 100%|██████████| 50/50 [00:12<00:00,  3.93it/s, loss=2.07e+03, v_num=1]"
     ]
    },
    {
     "name": "stderr",
     "output_type": "stream",
     "text": [
      "\r",
      " 45%|████▌     | 5/11 [01:15<01:59, 19.87s/it]"
     ]
    },
    {
     "name": "stdout",
     "output_type": "stream",
     "text": [
      "\n",
      "Using ScanPy methods to calculate distances, indices, connectivities, transitions, ... done! \n",
      "KNN indices for Velvet stored in .obsm['knn_index'].\n",
      "Dense similarity transition matrix for Velvet stored in .obsm['Ts'].\n",
      "\u001b[34mINFO    \u001b[0m Generating sequential column names                                                                        \n"
     ]
    },
    {
     "name": "stderr",
     "output_type": "stream",
     "text": [
      "bypassing sigterm\n",
      "bypassing sigterm\n",
      "bypassing sigterm\n",
      "Multiprocessing is handled by SLURM.\n",
      "bypassing sigterm\n",
      "GPU available: True (cuda), used: True\n",
      "TPU available: False, using: 0 TPU cores\n",
      "IPU available: False, using: 0 IPUs\n",
      "HPU available: False, using: 0 HPUs\n",
      "bypassing sigterm\n",
      "bypassing sigterm\n",
      "LOCAL_RANK: 0 - CUDA_VISIBLE_DEVICES: [0]\n",
      "SLURM auto-requeueing enabled. Setting signal handlers.\n"
     ]
    },
    {
     "name": "stdout",
     "output_type": "stream",
     "text": [
      "Epoch 50/50: 100%|██████████| 50/50 [00:15<00:00,  3.21it/s, loss=2.07e+03, v_num=1]"
     ]
    },
    {
     "name": "stderr",
     "output_type": "stream",
     "text": [
      "`Trainer.fit` stopped: `max_epochs=50` reached.\n"
     ]
    },
    {
     "name": "stdout",
     "output_type": "stream",
     "text": [
      "\r",
      "Epoch 50/50: 100%|██████████| 50/50 [00:15<00:00,  3.29it/s, loss=2.07e+03, v_num=1]"
     ]
    },
    {
     "name": "stderr",
     "output_type": "stream",
     "text": [
      "\r",
      " 55%|█████▍    | 6/11 [01:55<02:13, 26.62s/it]"
     ]
    },
    {
     "name": "stdout",
     "output_type": "stream",
     "text": [
      "\n",
      "Using ScanPy methods to calculate distances, indices, connectivities, transitions, ... done! \n",
      "KNN indices for Velvet stored in .obsm['knn_index'].\n",
      "Dense similarity transition matrix for Velvet stored in .obsm['Ts'].\n",
      "\u001b[34mINFO    \u001b[0m Generating sequential column names                                                                        \n"
     ]
    },
    {
     "name": "stderr",
     "output_type": "stream",
     "text": [
      "bypassing sigterm\n",
      "bypassing sigterm\n",
      "bypassing sigterm\n",
      "Multiprocessing is handled by SLURM.\n",
      "bypassing sigterm\n",
      "GPU available: True (cuda), used: True\n",
      "TPU available: False, using: 0 TPU cores\n",
      "IPU available: False, using: 0 IPUs\n",
      "HPU available: False, using: 0 HPUs\n",
      "bypassing sigterm\n",
      "bypassing sigterm\n",
      "LOCAL_RANK: 0 - CUDA_VISIBLE_DEVICES: [0]\n",
      "SLURM auto-requeueing enabled. Setting signal handlers.\n"
     ]
    },
    {
     "name": "stdout",
     "output_type": "stream",
     "text": [
      "Epoch 50/50: 100%|██████████| 50/50 [00:14<00:00,  3.28it/s, loss=2.07e+03, v_num=1]"
     ]
    },
    {
     "name": "stderr",
     "output_type": "stream",
     "text": [
      "`Trainer.fit` stopped: `max_epochs=50` reached.\n"
     ]
    },
    {
     "name": "stdout",
     "output_type": "stream",
     "text": [
      "\r",
      "Epoch 50/50: 100%|██████████| 50/50 [00:14<00:00,  3.38it/s, loss=2.07e+03, v_num=1]"
     ]
    },
    {
     "name": "stderr",
     "output_type": "stream",
     "text": [
      "\r",
      " 64%|██████▎   | 7/11 [02:39<02:09, 32.26s/it]"
     ]
    },
    {
     "name": "stdout",
     "output_type": "stream",
     "text": [
      "\n",
      "Using ScanPy methods to calculate distances, indices, connectivities, transitions, ... done! \n",
      "KNN indices for Velvet stored in .obsm['knn_index'].\n",
      "Dense similarity transition matrix for Velvet stored in .obsm['Ts'].\n",
      "\u001b[34mINFO    \u001b[0m Generating sequential column names                                                                        \n"
     ]
    },
    {
     "name": "stderr",
     "output_type": "stream",
     "text": [
      "bypassing sigterm\n",
      "bypassing sigterm\n",
      "bypassing sigterm\n",
      "Multiprocessing is handled by SLURM.\n",
      "bypassing sigterm\n",
      "GPU available: True (cuda), used: True\n",
      "TPU available: False, using: 0 TPU cores\n",
      "IPU available: False, using: 0 IPUs\n",
      "HPU available: False, using: 0 HPUs\n",
      "bypassing sigterm\n",
      "bypassing sigterm\n",
      "LOCAL_RANK: 0 - CUDA_VISIBLE_DEVICES: [0]\n",
      "SLURM auto-requeueing enabled. Setting signal handlers.\n"
     ]
    },
    {
     "name": "stdout",
     "output_type": "stream",
     "text": [
      "Epoch 50/50: 100%|██████████| 50/50 [00:18<00:00,  2.29it/s, loss=2.07e+03, v_num=1]"
     ]
    },
    {
     "name": "stderr",
     "output_type": "stream",
     "text": [
      "`Trainer.fit` stopped: `max_epochs=50` reached.\n"
     ]
    },
    {
     "name": "stdout",
     "output_type": "stream",
     "text": [
      "\r",
      "Epoch 50/50: 100%|██████████| 50/50 [00:18<00:00,  2.66it/s, loss=2.07e+03, v_num=1]"
     ]
    },
    {
     "name": "stderr",
     "output_type": "stream",
     "text": [
      "\r",
      " 73%|███████▎  | 8/11 [03:37<02:01, 40.55s/it]"
     ]
    },
    {
     "name": "stdout",
     "output_type": "stream",
     "text": [
      "\n",
      "Using ScanPy methods to calculate distances, indices, connectivities, transitions, ... done! \n",
      "KNN indices for Velvet stored in .obsm['knn_index'].\n",
      "Dense similarity transition matrix for Velvet stored in .obsm['Ts'].\n",
      "\u001b[34mINFO    \u001b[0m Generating sequential column names                                                                        \n"
     ]
    },
    {
     "name": "stderr",
     "output_type": "stream",
     "text": [
      "bypassing sigterm\n",
      "bypassing sigterm\n",
      "bypassing sigterm\n",
      "Multiprocessing is handled by SLURM.\n",
      "bypassing sigterm\n",
      "GPU available: True (cuda), used: True\n",
      "TPU available: False, using: 0 TPU cores\n",
      "IPU available: False, using: 0 IPUs\n",
      "HPU available: False, using: 0 HPUs\n",
      "bypassing sigterm\n",
      "bypassing sigterm\n",
      "LOCAL_RANK: 0 - CUDA_VISIBLE_DEVICES: [0]\n",
      "SLURM auto-requeueing enabled. Setting signal handlers.\n"
     ]
    },
    {
     "name": "stdout",
     "output_type": "stream",
     "text": [
      "Epoch 50/50: 100%|██████████| 50/50 [00:24<00:00,  2.03it/s, loss=2.07e+03, v_num=1]"
     ]
    },
    {
     "name": "stderr",
     "output_type": "stream",
     "text": [
      "`Trainer.fit` stopped: `max_epochs=50` reached.\n"
     ]
    },
    {
     "name": "stdout",
     "output_type": "stream",
     "text": [
      "\r",
      "Epoch 50/50: 100%|██████████| 50/50 [00:24<00:00,  2.06it/s, loss=2.07e+03, v_num=1]"
     ]
    },
    {
     "name": "stderr",
     "output_type": "stream",
     "text": [
      "\r",
      " 82%|████████▏ | 9/11 [05:10<01:54, 57.00s/it]"
     ]
    },
    {
     "name": "stdout",
     "output_type": "stream",
     "text": [
      "\n",
      "Using ScanPy methods to calculate distances, indices, connectivities, transitions, ... done! \n",
      "KNN indices for Velvet stored in .obsm['knn_index'].\n",
      "Dense similarity transition matrix for Velvet stored in .obsm['Ts'].\n",
      "\u001b[34mINFO    \u001b[0m Generating sequential column names                                                                        \n"
     ]
    },
    {
     "name": "stderr",
     "output_type": "stream",
     "text": [
      "bypassing sigterm\n",
      "bypassing sigterm\n",
      "bypassing sigterm\n",
      "Multiprocessing is handled by SLURM.\n",
      "bypassing sigterm\n",
      "GPU available: True (cuda), used: True\n",
      "TPU available: False, using: 0 TPU cores\n",
      "IPU available: False, using: 0 IPUs\n",
      "HPU available: False, using: 0 HPUs\n",
      "bypassing sigterm\n",
      "bypassing sigterm\n",
      "LOCAL_RANK: 0 - CUDA_VISIBLE_DEVICES: [0]\n",
      "SLURM auto-requeueing enabled. Setting signal handlers.\n"
     ]
    },
    {
     "name": "stdout",
     "output_type": "stream",
     "text": [
      "Epoch 50/50: 100%|██████████| 50/50 [00:25<00:00,  2.14it/s, loss=2.07e+03, v_num=1]"
     ]
    },
    {
     "name": "stderr",
     "output_type": "stream",
     "text": [
      "`Trainer.fit` stopped: `max_epochs=50` reached.\n"
     ]
    },
    {
     "name": "stdout",
     "output_type": "stream",
     "text": [
      "\r",
      "Epoch 50/50: 100%|██████████| 50/50 [00:25<00:00,  1.97it/s, loss=2.07e+03, v_num=1]"
     ]
    },
    {
     "name": "stderr",
     "output_type": "stream",
     "text": [
      "\r",
      " 91%|█████████ | 10/11 [07:02<01:14, 74.09s/it]"
     ]
    },
    {
     "name": "stdout",
     "output_type": "stream",
     "text": [
      "\n",
      "Using ScanPy methods to calculate distances, indices, connectivities, transitions, ... done! \n",
      "KNN indices for Velvet stored in .obsm['knn_index'].\n",
      "Dense similarity transition matrix for Velvet stored in .obsm['Ts'].\n",
      "\u001b[34mINFO    \u001b[0m Generating sequential column names                                                                        \n"
     ]
    },
    {
     "name": "stderr",
     "output_type": "stream",
     "text": [
      "bypassing sigterm\n",
      "bypassing sigterm\n",
      "bypassing sigterm\n",
      "Multiprocessing is handled by SLURM.\n",
      "bypassing sigterm\n",
      "GPU available: True (cuda), used: True\n",
      "TPU available: False, using: 0 TPU cores\n",
      "IPU available: False, using: 0 IPUs\n",
      "HPU available: False, using: 0 HPUs\n",
      "bypassing sigterm\n",
      "bypassing sigterm\n",
      "LOCAL_RANK: 0 - CUDA_VISIBLE_DEVICES: [0]\n",
      "SLURM auto-requeueing enabled. Setting signal handlers.\n"
     ]
    },
    {
     "name": "stdout",
     "output_type": "stream",
     "text": [
      "Epoch 50/50: 100%|██████████| 50/50 [00:28<00:00,  1.94it/s, loss=2.07e+03, v_num=1]"
     ]
    },
    {
     "name": "stderr",
     "output_type": "stream",
     "text": [
      "`Trainer.fit` stopped: `max_epochs=50` reached.\n"
     ]
    },
    {
     "name": "stdout",
     "output_type": "stream",
     "text": [
      "\r",
      "Epoch 50/50: 100%|██████████| 50/50 [00:28<00:00,  1.73it/s, loss=2.07e+03, v_num=1]"
     ]
    },
    {
     "name": "stderr",
     "output_type": "stream",
     "text": [
      "100%|██████████| 11/11 [09:24<00:00, 51.28s/it]\n"
     ]
    },
    {
     "name": "stdout",
     "output_type": "stream",
     "text": [
      "\n"
     ]
    },
    {
     "name": "stderr",
     "output_type": "stream",
     "text": [
      "\r",
      "  0%|          | 0/11 [00:00<?, ?it/s]"
     ]
    },
    {
     "name": "stdout",
     "output_type": "stream",
     "text": [
      "Using ScanPy methods to calculate distances, indices, connectivities, transitions, ... done! \n",
      "KNN indices for Velvet stored in .obsm['knn_index'].\n",
      "Dense similarity transition matrix for Velvet stored in .obsm['Ts'].\n",
      "\u001b[34mINFO    \u001b[0m Generating sequential column names                                                                        \n"
     ]
    },
    {
     "name": "stderr",
     "output_type": "stream",
     "text": [
      "bypassing sigterm\n",
      "bypassing sigterm\n",
      "bypassing sigterm\n",
      "Multiprocessing is handled by SLURM.\n",
      "bypassing sigterm\n",
      "GPU available: True (cuda), used: True\n",
      "TPU available: False, using: 0 TPU cores\n",
      "IPU available: False, using: 0 IPUs\n",
      "HPU available: False, using: 0 HPUs\n",
      "bypassing sigterm\n",
      "bypassing sigterm\n",
      "LOCAL_RANK: 0 - CUDA_VISIBLE_DEVICES: [0]\n",
      "SLURM auto-requeueing enabled. Setting signal handlers.\n"
     ]
    },
    {
     "name": "stdout",
     "output_type": "stream",
     "text": [
      "Epoch 50/50: 100%|██████████| 50/50 [00:01<00:00, 48.29it/s, loss=2.06e+03, v_num=1]"
     ]
    },
    {
     "name": "stderr",
     "output_type": "stream",
     "text": [
      "`Trainer.fit` stopped: `max_epochs=50` reached.\n"
     ]
    },
    {
     "name": "stdout",
     "output_type": "stream",
     "text": [
      "Epoch 50/50: 100%|██████████| 50/50 [00:01<00:00, 46.86it/s, loss=2.06e+03, v_num=1]\n"
     ]
    },
    {
     "name": "stderr",
     "output_type": "stream",
     "text": [
      "\r",
      "  9%|▉         | 1/11 [00:02<00:21,  2.15s/it]"
     ]
    },
    {
     "name": "stdout",
     "output_type": "stream",
     "text": [
      "Using ScanPy methods to calculate distances, indices, connectivities, transitions, ... done! \n",
      "KNN indices for Velvet stored in .obsm['knn_index'].\n",
      "Dense similarity transition matrix for Velvet stored in .obsm['Ts'].\n",
      "\u001b[34mINFO    \u001b[0m Generating sequential column names                                                                        \n"
     ]
    },
    {
     "name": "stderr",
     "output_type": "stream",
     "text": [
      "bypassing sigterm\n",
      "bypassing sigterm\n",
      "bypassing sigterm\n",
      "Multiprocessing is handled by SLURM.\n",
      "bypassing sigterm\n",
      "GPU available: True (cuda), used: True\n",
      "TPU available: False, using: 0 TPU cores\n",
      "IPU available: False, using: 0 IPUs\n",
      "HPU available: False, using: 0 HPUs\n",
      "bypassing sigterm\n",
      "bypassing sigterm\n",
      "LOCAL_RANK: 0 - CUDA_VISIBLE_DEVICES: [0]\n",
      "SLURM auto-requeueing enabled. Setting signal handlers.\n"
     ]
    },
    {
     "name": "stdout",
     "output_type": "stream",
     "text": [
      "Epoch 50/50: 100%|██████████| 50/50 [00:03<00:00, 14.76it/s, loss=2.07e+03, v_num=1]"
     ]
    },
    {
     "name": "stderr",
     "output_type": "stream",
     "text": [
      "`Trainer.fit` stopped: `max_epochs=50` reached.\n"
     ]
    },
    {
     "name": "stdout",
     "output_type": "stream",
     "text": [
      "\r",
      "Epoch 50/50: 100%|██████████| 50/50 [00:03<00:00, 14.84it/s, loss=2.07e+03, v_num=1]"
     ]
    },
    {
     "name": "stderr",
     "output_type": "stream",
     "text": [
      "\r",
      " 18%|█▊        | 2/11 [00:08<00:41,  4.63s/it]"
     ]
    },
    {
     "name": "stdout",
     "output_type": "stream",
     "text": [
      "\n",
      "Using ScanPy methods to calculate distances, indices, connectivities, transitions, ... done! \n",
      "KNN indices for Velvet stored in .obsm['knn_index'].\n",
      "Dense similarity transition matrix for Velvet stored in .obsm['Ts'].\n",
      "\u001b[34mINFO    \u001b[0m Generating sequential column names                                                                        \n"
     ]
    },
    {
     "name": "stderr",
     "output_type": "stream",
     "text": [
      "bypassing sigterm\n",
      "bypassing sigterm\n",
      "bypassing sigterm\n",
      "Multiprocessing is handled by SLURM.\n",
      "bypassing sigterm\n",
      "GPU available: True (cuda), used: True\n",
      "TPU available: False, using: 0 TPU cores\n",
      "IPU available: False, using: 0 IPUs\n",
      "HPU available: False, using: 0 HPUs\n",
      "bypassing sigterm\n",
      "bypassing sigterm\n",
      "LOCAL_RANK: 0 - CUDA_VISIBLE_DEVICES: [0]\n",
      "SLURM auto-requeueing enabled. Setting signal handlers.\n"
     ]
    },
    {
     "name": "stdout",
     "output_type": "stream",
     "text": [
      "Epoch 50/50: 100%|██████████| 50/50 [00:05<00:00,  8.33it/s, loss=2.07e+03, v_num=1]"
     ]
    },
    {
     "name": "stderr",
     "output_type": "stream",
     "text": [
      "`Trainer.fit` stopped: `max_epochs=50` reached.\n"
     ]
    },
    {
     "name": "stdout",
     "output_type": "stream",
     "text": [
      "\r",
      "Epoch 50/50: 100%|██████████| 50/50 [00:05<00:00,  8.61it/s, loss=2.07e+03, v_num=1]"
     ]
    },
    {
     "name": "stderr",
     "output_type": "stream",
     "text": [
      "\r",
      " 27%|██▋       | 3/11 [00:20<01:03,  7.89s/it]"
     ]
    },
    {
     "name": "stdout",
     "output_type": "stream",
     "text": [
      "\n",
      "Using ScanPy methods to calculate distances, indices, connectivities, transitions, ... done! \n",
      "KNN indices for Velvet stored in .obsm['knn_index'].\n",
      "Dense similarity transition matrix for Velvet stored in .obsm['Ts'].\n",
      "\u001b[34mINFO    \u001b[0m Generating sequential column names                                                                        \n"
     ]
    },
    {
     "name": "stderr",
     "output_type": "stream",
     "text": [
      "bypassing sigterm\n",
      "bypassing sigterm\n",
      "bypassing sigterm\n",
      "Multiprocessing is handled by SLURM.\n",
      "bypassing sigterm\n",
      "GPU available: True (cuda), used: True\n",
      "TPU available: False, using: 0 TPU cores\n",
      "IPU available: False, using: 0 IPUs\n",
      "HPU available: False, using: 0 HPUs\n",
      "bypassing sigterm\n",
      "bypassing sigterm\n",
      "LOCAL_RANK: 0 - CUDA_VISIBLE_DEVICES: [0]\n",
      "SLURM auto-requeueing enabled. Setting signal handlers.\n"
     ]
    },
    {
     "name": "stdout",
     "output_type": "stream",
     "text": [
      "Epoch 50/50: 100%|██████████| 50/50 [00:09<00:00,  5.02it/s, loss=2.07e+03, v_num=1]"
     ]
    },
    {
     "name": "stderr",
     "output_type": "stream",
     "text": [
      "`Trainer.fit` stopped: `max_epochs=50` reached.\n"
     ]
    },
    {
     "name": "stdout",
     "output_type": "stream",
     "text": [
      "Epoch 50/50: 100%|██████████| 50/50 [00:09<00:00,  5.04it/s, loss=2.07e+03, v_num=1]\n"
     ]
    },
    {
     "name": "stderr",
     "output_type": "stream",
     "text": [
      "\r",
      " 36%|███▋      | 4/11 [00:41<01:31, 13.06s/it]"
     ]
    },
    {
     "name": "stdout",
     "output_type": "stream",
     "text": [
      "Using ScanPy methods to calculate distances, indices, connectivities, transitions, ... done! \n",
      "KNN indices for Velvet stored in .obsm['knn_index'].\n",
      "Dense similarity transition matrix for Velvet stored in .obsm['Ts'].\n",
      "\u001b[34mINFO    \u001b[0m Generating sequential column names                                                                        \n"
     ]
    },
    {
     "name": "stderr",
     "output_type": "stream",
     "text": [
      "bypassing sigterm\n",
      "bypassing sigterm\n",
      "bypassing sigterm\n",
      "Multiprocessing is handled by SLURM.\n",
      "bypassing sigterm\n",
      "GPU available: True (cuda), used: True\n",
      "TPU available: False, using: 0 TPU cores\n",
      "IPU available: False, using: 0 IPUs\n",
      "HPU available: False, using: 0 HPUs\n",
      "bypassing sigterm\n",
      "LOCAL_RANK: 0 - CUDA_VISIBLE_DEVICES: [0]\n",
      "SLURM auto-requeueing enabled. Setting signal handlers.\n"
     ]
    },
    {
     "name": "stdout",
     "output_type": "stream",
     "text": [
      "Epoch 50/50: 100%|██████████| 50/50 [00:13<00:00,  3.84it/s, loss=2.07e+03, v_num=1]"
     ]
    },
    {
     "name": "stderr",
     "output_type": "stream",
     "text": [
      "`Trainer.fit` stopped: `max_epochs=50` reached.\n"
     ]
    },
    {
     "name": "stdout",
     "output_type": "stream",
     "text": [
      "\r",
      "Epoch 50/50: 100%|██████████| 50/50 [00:13<00:00,  3.82it/s, loss=2.07e+03, v_num=1]"
     ]
    },
    {
     "name": "stderr",
     "output_type": "stream",
     "text": [
      "\r",
      " 45%|████▌     | 5/11 [01:11<01:56, 19.39s/it]"
     ]
    },
    {
     "name": "stdout",
     "output_type": "stream",
     "text": [
      "\n",
      "Using ScanPy methods to calculate distances, indices, connectivities, transitions, ... done! \n",
      "KNN indices for Velvet stored in .obsm['knn_index'].\n",
      "Dense similarity transition matrix for Velvet stored in .obsm['Ts'].\n",
      "\u001b[34mINFO    \u001b[0m Generating sequential column names                                                                        \n"
     ]
    },
    {
     "name": "stderr",
     "output_type": "stream",
     "text": [
      "bypassing sigterm\n",
      "bypassing sigterm\n",
      "bypassing sigterm\n",
      "Multiprocessing is handled by SLURM.\n",
      "bypassing sigterm\n",
      "GPU available: True (cuda), used: True\n",
      "TPU available: False, using: 0 TPU cores\n",
      "IPU available: False, using: 0 IPUs\n",
      "HPU available: False, using: 0 HPUs\n",
      "bypassing sigterm\n",
      "bypassing sigterm\n",
      "LOCAL_RANK: 0 - CUDA_VISIBLE_DEVICES: [0]\n",
      "SLURM auto-requeueing enabled. Setting signal handlers.\n"
     ]
    },
    {
     "name": "stdout",
     "output_type": "stream",
     "text": [
      "Epoch 50/50: 100%|██████████| 50/50 [00:15<00:00,  3.68it/s, loss=2.07e+03, v_num=1]"
     ]
    },
    {
     "name": "stderr",
     "output_type": "stream",
     "text": [
      "`Trainer.fit` stopped: `max_epochs=50` reached.\n"
     ]
    },
    {
     "name": "stdout",
     "output_type": "stream",
     "text": [
      "\r",
      "Epoch 50/50: 100%|██████████| 50/50 [00:15<00:00,  3.17it/s, loss=2.07e+03, v_num=1]"
     ]
    },
    {
     "name": "stderr",
     "output_type": "stream",
     "text": [
      "\r",
      " 55%|█████▍    | 6/11 [01:53<02:14, 26.90s/it]"
     ]
    },
    {
     "name": "stdout",
     "output_type": "stream",
     "text": [
      "\n",
      "Using ScanPy methods to calculate distances, indices, connectivities, transitions, ... done! \n",
      "KNN indices for Velvet stored in .obsm['knn_index'].\n",
      "Dense similarity transition matrix for Velvet stored in .obsm['Ts'].\n",
      "\u001b[34mINFO    \u001b[0m Generating sequential column names                                                                        \n"
     ]
    },
    {
     "name": "stderr",
     "output_type": "stream",
     "text": [
      "bypassing sigterm\n",
      "bypassing sigterm\n",
      "bypassing sigterm\n",
      "Multiprocessing is handled by SLURM.\n",
      "bypassing sigterm\n",
      "GPU available: True (cuda), used: True\n",
      "TPU available: False, using: 0 TPU cores\n",
      "IPU available: False, using: 0 IPUs\n",
      "HPU available: False, using: 0 HPUs\n",
      "bypassing sigterm\n",
      "bypassing sigterm\n",
      "LOCAL_RANK: 0 - CUDA_VISIBLE_DEVICES: [0]\n",
      "SLURM auto-requeueing enabled. Setting signal handlers.\n"
     ]
    },
    {
     "name": "stdout",
     "output_type": "stream",
     "text": [
      "Epoch 50/50: 100%|██████████| 50/50 [00:15<00:00,  2.64it/s, loss=2.07e+03, v_num=1]"
     ]
    },
    {
     "name": "stderr",
     "output_type": "stream",
     "text": [
      "`Trainer.fit` stopped: `max_epochs=50` reached.\n"
     ]
    },
    {
     "name": "stdout",
     "output_type": "stream",
     "text": [
      "\r",
      "Epoch 50/50: 100%|██████████| 50/50 [00:15<00:00,  3.16it/s, loss=2.07e+03, v_num=1]"
     ]
    },
    {
     "name": "stderr",
     "output_type": "stream",
     "text": [
      "\r",
      " 64%|██████▎   | 7/11 [02:41<02:14, 33.69s/it]"
     ]
    },
    {
     "name": "stdout",
     "output_type": "stream",
     "text": [
      "\n",
      "Using ScanPy methods to calculate distances, indices, connectivities, transitions, ... done! \n",
      "KNN indices for Velvet stored in .obsm['knn_index'].\n",
      "Dense similarity transition matrix for Velvet stored in .obsm['Ts'].\n",
      "\u001b[34mINFO    \u001b[0m Generating sequential column names                                                                        \n"
     ]
    },
    {
     "name": "stderr",
     "output_type": "stream",
     "text": [
      "bypassing sigterm\n",
      "bypassing sigterm\n",
      "bypassing sigterm\n",
      "Multiprocessing is handled by SLURM.\n",
      "bypassing sigterm\n",
      "GPU available: True (cuda), used: True\n",
      "TPU available: False, using: 0 TPU cores\n",
      "IPU available: False, using: 0 IPUs\n",
      "HPU available: False, using: 0 HPUs\n",
      "bypassing sigterm\n",
      "bypassing sigterm\n",
      "LOCAL_RANK: 0 - CUDA_VISIBLE_DEVICES: [0]\n",
      "SLURM auto-requeueing enabled. Setting signal handlers.\n"
     ]
    },
    {
     "name": "stdout",
     "output_type": "stream",
     "text": [
      "Epoch 50/50: 100%|██████████| 50/50 [00:21<00:00,  2.27it/s, loss=2.07e+03, v_num=1]"
     ]
    },
    {
     "name": "stderr",
     "output_type": "stream",
     "text": [
      "`Trainer.fit` stopped: `max_epochs=50` reached.\n"
     ]
    },
    {
     "name": "stdout",
     "output_type": "stream",
     "text": [
      "\r",
      "Epoch 50/50: 100%|██████████| 50/50 [00:21<00:00,  2.34it/s, loss=2.07e+03, v_num=1]"
     ]
    },
    {
     "name": "stderr",
     "output_type": "stream",
     "text": [
      "\r",
      " 73%|███████▎  | 8/11 [03:54<02:19, 46.47s/it]"
     ]
    },
    {
     "name": "stdout",
     "output_type": "stream",
     "text": [
      "\n",
      "Using ScanPy methods to calculate distances, indices, connectivities, transitions, ... done! \n",
      "KNN indices for Velvet stored in .obsm['knn_index'].\n",
      "Dense similarity transition matrix for Velvet stored in .obsm['Ts'].\n",
      "\u001b[34mINFO    \u001b[0m Generating sequential column names                                                                        \n"
     ]
    },
    {
     "name": "stderr",
     "output_type": "stream",
     "text": [
      "bypassing sigterm\n",
      "bypassing sigterm\n",
      "bypassing sigterm\n",
      "Multiprocessing is handled by SLURM.\n",
      "bypassing sigterm\n",
      "GPU available: True (cuda), used: True\n",
      "TPU available: False, using: 0 TPU cores\n",
      "IPU available: False, using: 0 IPUs\n",
      "HPU available: False, using: 0 HPUs\n",
      "bypassing sigterm\n",
      "bypassing sigterm\n",
      "LOCAL_RANK: 0 - CUDA_VISIBLE_DEVICES: [0]\n",
      "SLURM auto-requeueing enabled. Setting signal handlers.\n"
     ]
    },
    {
     "name": "stdout",
     "output_type": "stream",
     "text": [
      "Epoch 50/50: 100%|██████████| 50/50 [00:20<00:00,  2.53it/s, loss=2.07e+03, v_num=1]"
     ]
    },
    {
     "name": "stderr",
     "output_type": "stream",
     "text": [
      "`Trainer.fit` stopped: `max_epochs=50` reached.\n"
     ]
    },
    {
     "name": "stdout",
     "output_type": "stream",
     "text": [
      "\r",
      "Epoch 50/50: 100%|██████████| 50/50 [00:20<00:00,  2.49it/s, loss=2.07e+03, v_num=1]"
     ]
    },
    {
     "name": "stderr",
     "output_type": "stream",
     "text": [
      "\r",
      " 82%|████████▏ | 9/11 [05:16<01:54, 57.40s/it]"
     ]
    },
    {
     "name": "stdout",
     "output_type": "stream",
     "text": [
      "\n",
      "Using ScanPy methods to calculate distances, indices, connectivities, transitions, ... done! \n",
      "KNN indices for Velvet stored in .obsm['knn_index'].\n",
      "Dense similarity transition matrix for Velvet stored in .obsm['Ts'].\n",
      "\u001b[34mINFO    \u001b[0m Generating sequential column names                                                                        \n"
     ]
    },
    {
     "name": "stderr",
     "output_type": "stream",
     "text": [
      "bypassing sigterm\n",
      "bypassing sigterm\n",
      "bypassing sigterm\n",
      "Multiprocessing is handled by SLURM.\n",
      "bypassing sigterm\n",
      "GPU available: True (cuda), used: True\n",
      "TPU available: False, using: 0 TPU cores\n",
      "IPU available: False, using: 0 IPUs\n",
      "HPU available: False, using: 0 HPUs\n",
      "bypassing sigterm\n",
      "bypassing sigterm\n",
      "LOCAL_RANK: 0 - CUDA_VISIBLE_DEVICES: [0]\n",
      "SLURM auto-requeueing enabled. Setting signal handlers.\n"
     ]
    },
    {
     "name": "stdout",
     "output_type": "stream",
     "text": [
      "Epoch 50/50: 100%|██████████| 50/50 [00:26<00:00,  1.85it/s, loss=2.07e+03, v_num=1]"
     ]
    },
    {
     "name": "stderr",
     "output_type": "stream",
     "text": [
      "`Trainer.fit` stopped: `max_epochs=50` reached.\n"
     ]
    },
    {
     "name": "stdout",
     "output_type": "stream",
     "text": [
      "\r",
      "Epoch 50/50: 100%|██████████| 50/50 [00:26<00:00,  1.88it/s, loss=2.07e+03, v_num=1]"
     ]
    },
    {
     "name": "stderr",
     "output_type": "stream",
     "text": [
      "\r",
      " 91%|█████████ | 10/11 [07:15<01:16, 76.40s/it]"
     ]
    },
    {
     "name": "stdout",
     "output_type": "stream",
     "text": [
      "\n",
      "Using ScanPy methods to calculate distances, indices, connectivities, transitions, ... done! \n",
      "KNN indices for Velvet stored in .obsm['knn_index'].\n",
      "Dense similarity transition matrix for Velvet stored in .obsm['Ts'].\n",
      "\u001b[34mINFO    \u001b[0m Generating sequential column names                                                                        \n"
     ]
    },
    {
     "name": "stderr",
     "output_type": "stream",
     "text": [
      "bypassing sigterm\n",
      "bypassing sigterm\n",
      "bypassing sigterm\n",
      "Multiprocessing is handled by SLURM.\n",
      "bypassing sigterm\n",
      "GPU available: True (cuda), used: True\n",
      "TPU available: False, using: 0 TPU cores\n",
      "IPU available: False, using: 0 IPUs\n",
      "HPU available: False, using: 0 HPUs\n",
      "bypassing sigterm\n",
      "bypassing sigterm\n",
      "LOCAL_RANK: 0 - CUDA_VISIBLE_DEVICES: [0]\n",
      "SLURM auto-requeueing enabled. Setting signal handlers.\n"
     ]
    },
    {
     "name": "stdout",
     "output_type": "stream",
     "text": [
      "Epoch 50/50: 100%|██████████| 50/50 [00:29<00:00,  1.99it/s, loss=2.07e+03, v_num=1]"
     ]
    },
    {
     "name": "stderr",
     "output_type": "stream",
     "text": [
      "`Trainer.fit` stopped: `max_epochs=50` reached.\n"
     ]
    },
    {
     "name": "stdout",
     "output_type": "stream",
     "text": [
      "\r",
      "Epoch 50/50: 100%|██████████| 50/50 [00:29<00:00,  1.68it/s, loss=2.07e+03, v_num=1]"
     ]
    },
    {
     "name": "stderr",
     "output_type": "stream",
     "text": [
      "100%|██████████| 11/11 [09:49<00:00, 53.56s/it] "
     ]
    },
    {
     "name": "stdout",
     "output_type": "stream",
     "text": [
      "\n"
     ]
    },
    {
     "name": "stderr",
     "output_type": "stream",
     "text": [
      "\n"
     ]
    }
   ],
   "source": [
    "reps = []\n",
    "for _ in range(3):\n",
    "    times = []\n",
    "    for size in tqdm(np.linspace(500,25000,11)):\n",
    "        idx = np.random.choice(neural.shape[0], size=int(size))\n",
    "        sub = neural[idx].copy()\n",
    "\n",
    "        vt.pp.neighborhood(sub)\n",
    "\n",
    "        vt.ut.set_seed(0)\n",
    "\n",
    "        vt.md.Velvet.setup_anndata(sub, x_layer='total', n_layer='new', knn_layer='knn_index')\n",
    "\n",
    "        submodel = vt.md.Velvet(\n",
    "            sub,\n",
    "            n_latent = 50,\n",
    "            linear_decoder = True,\n",
    "            neighborhood_space=\"latent_space\",\n",
    "            biophysical_model = \"simple\",\n",
    "            gamma_mode = \"learned\",\n",
    "            labelling_time = 2.0,\n",
    "        )\n",
    "\n",
    "        submodel.setup_model()\n",
    "\n",
    "        start_time = time.time()\n",
    "        submodel.train(\n",
    "            batch_size = sub.shape[0],\n",
    "            max_epochs = 50, \n",
    "            freeze_vae_after_epochs = 200,\n",
    "            constrain_vf_after_epochs = 200,\n",
    "            lr=0.001,\n",
    "        )\n",
    "        end_time = time.time()\n",
    "        total_time = end_time - start_time\n",
    "        times.append(total_time / 50)\n",
    "    reps.append(times)\n",
    "reps=np.array(reps)\n"
   ]
  },
  {
   "cell_type": "code",
   "execution_count": 50,
   "id": "126d44a7",
   "metadata": {},
   "outputs": [
    {
     "data": {
      "image/png": "[encoded data removed]",
      "text/plain": [
       "<Figure size 1200x900 with 1 Axes>"
      ]
     },
     "metadata": {},
     "output_type": "display_data"
    }
   ],
   "source": [
    "x = np.linspace(500,25000,11)\n",
    "\n",
    "plt.figure(figsize=(4,3), dpi=300)\n",
    "plt.plot(x,reps.mean(0))\n",
    "plt.scatter(x,reps.mean(0), zorder=33)\n",
    "plt.fill_between(\n",
    "    x,\n",
    "    reps.mean(0) + reps.std(0), reps.mean(0) - reps.std(0), \n",
    "    color='tab:blue', \n",
    "    alpha=0.3,\n",
    "    zorder=2323\n",
    ")\n",
    "plt.ylabel(\"Epoch duration (seconds)\")\n",
    "plt.xlabel(\"Dataset size (cells)\")\n",
    "plt.grid(0.1)\n",
    "plt.savefig('../figures/2.0.3_training_time_velvet.png', transparent=True)\n",
    "plt.show()"
   ]
  },
  {
   "cell_type": "code",
   "execution_count": null,
   "id": "47f59693",
   "metadata": {},
   "outputs": [],
   "source": []
  },
  {
   "cell_type": "code",
   "execution_count": null,
   "id": "ae19a7fe",
   "metadata": {},
   "outputs": [],
   "source": []
  },
  {
   "cell_type": "code",
   "execution_count": null,
   "id": "3f130e5f",
   "metadata": {},
   "outputs": [],
   "source": []
  },
  {
   "cell_type": "code",
   "execution_count": null,
   "id": "b0fcb8f3",
   "metadata": {},
   "outputs": [],
   "source": []
  },
  {
   "cell_type": "code",
   "execution_count": null,
   "id": "a683f5ff",
   "metadata": {},
   "outputs": [],
   "source": []
  },
  {
   "cell_type": "code",
   "execution_count": null,
   "id": "a0b7733e",
   "metadata": {},
   "outputs": [],
   "source": []
  },
  {
   "cell_type": "code",
   "execution_count": null,
   "id": "21a0fd83",
   "metadata": {},
   "outputs": [],
   "source": []
  }
 ],
 "metadata": {
  "kernelspec": {
   "display_name": "velvet_env1",
   "language": "python",
   "name": "velvet_env1"
  },
  "language_info": {
   "codemirror_mode": {
    "name": "ipython",
    "version": 3
   },
   "file_extension": ".py",
   "mimetype": "text/x-python",
   "name": "python",
   "nbconvert_exporter": "python",
   "pygments_lexer": "ipython3",
   "version": "3.10.11"
  }
 },
 "nbformat": 4,
 "nbformat_minor": 5
}
